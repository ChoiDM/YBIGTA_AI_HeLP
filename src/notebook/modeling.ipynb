{
 "cells": [
  {
   "cell_type": "code",
   "execution_count": 1,
   "metadata": {},
   "outputs": [
    {
     "name": "stderr",
     "output_type": "stream",
     "text": [
      "/home/ubuntu/anaconda3/lib/python3.6/site-packages/h5py/__init__.py:36: FutureWarning: Conversion of the second argument of issubdtype from `float` to `np.floating` is deprecated. In future, it will be treated as `np.float64 == np.dtype(float).type`.\n",
      "  from ._conv import register_converters as _register_converters\n",
      "/home/ubuntu/anaconda3/lib/python3.6/site-packages/statsmodels/compat/pandas.py:56: FutureWarning: The pandas.core.datetools module is deprecated and will be removed in a future version. Please use the pandas.tseries module instead.\n",
      "  from pandas.core import datetools\n",
      "Using TensorFlow backend.\n"
     ]
    }
   ],
   "source": [
    "from utils.data_loader import train_data_loader, test_data_loader, data_generator\n",
    "from utils.inference_tools import pred_to_binary, export_csv, making_result,  error_check\n",
    "from utils.model_stacking import *\n",
    "from utils.cube_tools import *\n",
    "import vecstack\n",
    "from glob import glob\n",
    "\n",
    "from xgboost import XGBClassifier\n",
    "from lightgbm import LGBMClassifier\n",
    "from sklearn.svm import SVC\n",
    "from sklearn.ensemble import RandomForestClassifier, ExtraTreesClassifier, AdaBoostClassifier\n",
    "from sklearn.linear_model import LogisticRegression, Lasso, RidgeClassifier, SGDClassifier, Lars, LassoLars\n",
    "from sklearn.model_selection import GridSearchCV, RandomizedSearchCV\n",
    "from sklearn.metrics import fbeta_score, make_scorer\n",
    "\n",
    "from keras.models import Sequential, model_from_json\n",
    "from keras.layers import Dense, Dropout, Conv3D, Flatten, pooling\n",
    "from keras.wrappers.scikit_learn import KerasClassifier\n",
    "from keras.utils import np_utils \n",
    "\n",
    "import pandas as pd\n",
    "import numpy as np\n",
    "import pickle\n",
    "import datetime\n",
    "\n",
    "import warnings\n",
    "warnings.filterwarnings('ignore')\n",
    "pd.set_option('display.max_rows', 500)\n",
    "pd.set_option('display.max_columns', 500)"
   ]
  },
  {
   "cell_type": "markdown",
   "metadata": {},
   "source": [
    "# Load Data and Pre-processing"
   ]
  },
  {
   "cell_type": "code",
   "execution_count": 2,
   "metadata": {},
   "outputs": [],
   "source": [
    "# Setting\n",
    "path = \"./data\"\n",
    "pos_dir = path+\"/train/positive/\"\n",
    "neg_dir = path+\"/train/negative/\"\n",
    "\n",
    "save_dir = path+\"/model/\"\n",
    "test_dir = path+'/test/'\n",
    "\n",
    "features = ['firstorder', 'shape']\n",
    "target_voxel = (0.65, 0.65, 3)"
   ]
  },
  {
   "cell_type": "code",
   "execution_count": 3,
   "metadata": {},
   "outputs": [
    {
     "name": "stdout",
     "output_type": "stream",
     "text": [
      "Created X of shape (6, 64) and y of shape (6,) (12:10:17)\n"
     ]
    }
   ],
   "source": [
    "norm = 'new'\n",
    "do_resample = True\n",
    "do_shuffle = True\n",
    "do_minmax = True\n",
    "\n",
    "X_train, y_train = train_data_loader(pos_dir, neg_dir, norm, do_resample, do_shuffle, do_minmax, features, target_voxel, path=path)"
   ]
  },
  {
   "cell_type": "code",
   "execution_count": 3,
   "metadata": {},
   "outputs": [],
   "source": [
    "norm = 'new'\n",
    "do_resample = True\n",
    "do_minmax = True\n",
    "\n",
    "X_test, patient_num, error_patient = test_data_loader(test_dir, norm, do_resample, do_minmax, features, target_voxel, path=path)"
   ]
  },
  {
   "cell_type": "markdown",
   "metadata": {},
   "source": [
    "<br><br><br>"
   ]
  },
  {
   "cell_type": "markdown",
   "metadata": {},
   "source": [
    "# Modeling"
   ]
  },
  {
   "cell_type": "code",
   "execution_count": 6,
   "metadata": {},
   "outputs": [
    {
     "data": {
      "text/plain": [
       "(6, 64)"
      ]
     },
     "execution_count": 6,
     "metadata": {},
     "output_type": "execute_result"
    }
   ],
   "source": [
    "X_train.shape"
   ]
  },
  {
   "cell_type": "markdown",
   "metadata": {},
   "source": [
    "### MLP"
   ]
  },
  {
   "cell_type": "code",
   "execution_count": 7,
   "metadata": {},
   "outputs": [],
   "source": [
    "def dl_mlp(X_train, y_train, num_units=256, hidden_layers=3, epochs=30, loss=\"cross_entropy_loss\") :\n",
    "    \n",
    "    def stack_fn(num_models=X_train.shape[1], num_units=num_units, hidden_layers=hidden_layers, loss=loss):\n",
    "        model = Sequential()\n",
    "        \n",
    "        for _ in range(hidden_layers) :\n",
    "            model.add(Dense(num_units, input_dim=num_models, activation='relu'))\n",
    "            model.add(Dropout(0.5))\n",
    "        \n",
    "        model.add(Dense(32, input_dim=num_units, activation='relu'))\n",
    "        model.add(Dense(2, activation='softmax'))\n",
    "        \n",
    "        if loss == 'cross_entropy_loss' :\n",
    "            model.compile(loss='categorical_crossentropy', optimizer='adam', metrics=['accuracy'])\n",
    "        elif loss == 'focal_loss' :\n",
    "            model.compile(loss=focal_loss(), optimizer='adam', metrics=['accuracy'])\n",
    "        return model\n",
    "    \n",
    "    MLP_model = KerasClassifier(build_fn=stack_fn)    \n",
    "    MLP_model.fit(X_train, y_train, epochs=epochs)\n",
    "    return MLP_model"
   ]
  },
  {
   "cell_type": "code",
   "execution_count": 8,
   "metadata": {},
   "outputs": [
    {
     "name": "stdout",
     "output_type": "stream",
     "text": [
      "Epoch 1/30\n",
      "6/6 [==============================] - 1s 84ms/step - loss: nan - acc: 0.5000\n",
      "Epoch 2/30\n",
      "6/6 [==============================] - 0s 706us/step - loss: nan - acc: 0.5000\n",
      "Epoch 3/30\n",
      "6/6 [==============================] - 0s 553us/step - loss: nan - acc: 0.5000\n",
      "Epoch 4/30\n",
      "6/6 [==============================] - 0s 392us/step - loss: nan - acc: 0.5000\n",
      "Epoch 5/30\n",
      "6/6 [==============================] - 0s 386us/step - loss: nan - acc: 0.5000\n",
      "Epoch 6/30\n",
      "6/6 [==============================] - 0s 372us/step - loss: nan - acc: 0.5000\n",
      "Epoch 7/30\n",
      "6/6 [==============================] - 0s 547us/step - loss: nan - acc: 0.5000\n",
      "Epoch 8/30\n",
      "6/6 [==============================] - 0s 663us/step - loss: nan - acc: 0.5000\n",
      "Epoch 9/30\n",
      "6/6 [==============================] - 0s 458us/step - loss: nan - acc: 0.5000\n",
      "Epoch 10/30\n",
      "6/6 [==============================] - 0s 634us/step - loss: nan - acc: 0.5000\n",
      "Epoch 11/30\n",
      "6/6 [==============================] - 0s 573us/step - loss: nan - acc: 0.5000\n",
      "Epoch 12/30\n",
      "6/6 [==============================] - 0s 476us/step - loss: nan - acc: 0.5000\n",
      "Epoch 13/30\n",
      "6/6 [==============================] - 0s 482us/step - loss: nan - acc: 0.5000\n",
      "Epoch 14/30\n",
      "6/6 [==============================] - 0s 556us/step - loss: nan - acc: 0.5000\n",
      "Epoch 15/30\n",
      "6/6 [==============================] - 0s 477us/step - loss: nan - acc: 0.5000\n",
      "Epoch 16/30\n",
      "6/6 [==============================] - 0s 582us/step - loss: nan - acc: 0.5000\n",
      "Epoch 17/30\n",
      "6/6 [==============================] - 0s 518us/step - loss: nan - acc: 0.5000\n",
      "Epoch 18/30\n",
      "6/6 [==============================] - 0s 467us/step - loss: nan - acc: 0.5000\n",
      "Epoch 19/30\n",
      "6/6 [==============================] - 0s 343us/step - loss: nan - acc: 0.5000\n",
      "Epoch 20/30\n",
      "6/6 [==============================] - 0s 348us/step - loss: nan - acc: 0.5000\n",
      "Epoch 21/30\n",
      "6/6 [==============================] - 0s 364us/step - loss: nan - acc: 0.5000\n",
      "Epoch 22/30\n",
      "6/6 [==============================] - 0s 372us/step - loss: nan - acc: 0.5000\n",
      "Epoch 23/30\n",
      "6/6 [==============================] - 0s 751us/step - loss: nan - acc: 0.5000\n",
      "Epoch 24/30\n",
      "6/6 [==============================] - 0s 409us/step - loss: nan - acc: 0.5000\n",
      "Epoch 25/30\n",
      "6/6 [==============================] - 0s 405us/step - loss: nan - acc: 0.5000\n",
      "Epoch 26/30\n",
      "6/6 [==============================] - 0s 392us/step - loss: nan - acc: 0.5000\n",
      "Epoch 27/30\n",
      "6/6 [==============================] - 0s 682us/step - loss: nan - acc: 0.5000\n",
      "Epoch 28/30\n",
      "6/6 [==============================] - 0s 367us/step - loss: nan - acc: 0.5000\n",
      "Epoch 29/30\n",
      "6/6 [==============================] - 0s 420us/step - loss: nan - acc: 0.5000\n",
      "Epoch 30/30\n",
      "6/6 [==============================] - 0s 407us/step - loss: nan - acc: 0.5000\n"
     ]
    }
   ],
   "source": [
    "MLP = dl_mlp(X_train, y_train, num_units=256, hidden_layers=3, epochs=30, loss=\"cross_entropy_loss\")"
   ]
  },
  {
   "cell_type": "markdown",
   "metadata": {},
   "source": [
    "### CNN"
   ]
  },
  {
   "cell_type": "code",
   "execution_count": 7,
   "metadata": {},
   "outputs": [],
   "source": [
    "epochs = 1\n",
    "batch_size = 4\n",
    "cube_shape = (32, 32, 16)\n",
    "mode = 'train'\n",
    "norm=\"new\"\n",
    "target_voxel = (0.65, 0.65, 3)"
   ]
  },
  {
   "cell_type": "code",
   "execution_count": 10,
   "metadata": {},
   "outputs": [],
   "source": [
    "path = './data'\n",
    "\n",
    "data_dir = sorted(glob(os.path.join(path, mode, '*', '*')))\n",
    "data_dir, error_patient = error_check(data_dir)\n",
    "data_gen = data_generator(batch_size, mode, data_dir, cube_shape, norm, target_voxel)"
   ]
  },
  {
   "cell_type": "code",
   "execution_count": 11,
   "metadata": {},
   "outputs": [],
   "source": [
    "def dl_cnn(data_gen, cube_shape=(32,32,16), batch_size=4, epochs=20) :\n",
    "    input_shape = cube_shape + (2,)\n",
    "    steps_per_epoch =255//batch_size\n",
    "    \n",
    "    model = Sequential()\n",
    "    model.add(Conv3D(32, (3,3,3), activation='relu', input_shape = input_shape))\n",
    "    model.add(Conv3D(32, (3,3,3), activation='relu'))\n",
    "    model.add(pooling.MaxPooling3D(pool_size=(2,2,2)))\n",
    "    \n",
    "    model.add(Conv3D(32, (3,3,3), activation='relu'))\n",
    "    model.add(Conv3D(32, (3,3,3), activation='relu'))\n",
    "    model.add(pooling.MaxPooling3D(pool_size=(2,2,2)))\n",
    "    \n",
    "    model.add(Flatten())\n",
    "    model.add(Dense(128, activation='relu'))\n",
    "    model.add(Dropout(0.5))\n",
    "    model.add(Dense(10, activation='relu'))\n",
    "    model.add(Dense(1, activation='sigmoid'))\n",
    "    \n",
    "    model.compile(loss='binary_crossentropy', optimizer='adam', metrics=['accuracy'])\n",
    "    model.fit_generator(data_gen, steps_per_epoch, epochs, shuffle=False)  \n",
    "    return model"
   ]
  },
  {
   "cell_type": "code",
   "execution_count": null,
   "metadata": {},
   "outputs": [],
   "source": [
    "CNN = dl_cnn(data_gen, cube_shape=(32,32,16), batch_size=4, epochs=1)"
   ]
  },
  {
   "cell_type": "markdown",
   "metadata": {},
   "source": [
    "# Save"
   ]
  },
  {
   "cell_type": "code",
   "execution_count": null,
   "metadata": {},
   "outputs": [],
   "source": [
    "MLP.model.save_weights(path+'/model/MLP.h5')\n",
    "with open(path+'/model/MLP.json', 'w') as f :\n",
    "    f.write(MLP.model.to_json())"
   ]
  },
  {
   "cell_type": "code",
   "execution_count": null,
   "metadata": {},
   "outputs": [],
   "source": [
    "CNN.model.save_weights(path+'/model/CNN.h5')\n",
    "with open(path+'/model/CNN.json', 'w') as f :\n",
    "    f.write(CNN.model.to_json())"
   ]
  },
  {
   "cell_type": "markdown",
   "metadata": {},
   "source": [
    "# Loading & Prediction"
   ]
  },
  {
   "cell_type": "code",
   "execution_count": 4,
   "metadata": {},
   "outputs": [],
   "source": [
    "with open(path+'/model/MLP.json', 'r') as f :\n",
    "    MLP = model_from_json(f.read())\n",
    "MLP.model.load_weights(path+'/model/MLP.h5')"
   ]
  },
  {
   "cell_type": "code",
   "execution_count": 5,
   "metadata": {},
   "outputs": [],
   "source": [
    "with open(path+'/model/CNN.json', 'r') as f :\n",
    "    CNN = model_from_json(f.read())\n",
    "CNN.model.load_weights(path+'/model/CNN.h5')"
   ]
  },
  {
   "cell_type": "markdown",
   "metadata": {},
   "source": [
    "<br><br>"
   ]
  },
  {
   "cell_type": "code",
   "execution_count": 11,
   "metadata": {},
   "outputs": [],
   "source": [
    "threshold = \"auto\"\n",
    "mode=\"test\"\n",
    "path = './data'\n",
    "\n",
    "data_dir = sorted(glob(os.path.join(path, mode, '*')))\n",
    "data_dir, error_patient = error_check(data_dir)\n",
    "data_gen = data_generator(batch_size, mode, data_dir, cube_shape, norm, target_voxel)"
   ]
  },
  {
   "cell_type": "code",
   "execution_count": null,
   "metadata": {},
   "outputs": [],
   "source": [
    "y_pred_lst = []\n",
    "y_pred_binary_lst =[]\n",
    "\n",
    "pred = MLP.predict_proba(X_test)[:, 1]\n",
    "y_pred_lst.append(pred)\n",
    "y_pred_binary_lst.append(pred_to_binary(pred, threshold = threshold))\n",
    "    \n",
    "pred = CNN.predict_generator(data_gen, steps=255//batch_size, verbose=1)\n",
    "y_pred_lst.append(pred)\n",
    "y_pred_binary_lst.append(pred_to_binary(pred, threshold = threshold))  \n",
    "\n",
    "final, final_df = export_csv(patient_num, error_patient, y_pred_binary_lst, y_pred_lst, path = path, index=1)\n",
    "print(final_df)"
   ]
  },
  {
   "cell_type": "code",
   "execution_count": null,
   "metadata": {},
   "outputs": [],
   "source": []
  },
  {
   "cell_type": "code",
   "execution_count": null,
   "metadata": {},
   "outputs": [],
   "source": []
  }
 ],
 "metadata": {
  "kernelspec": {
   "display_name": "Python 3",
   "language": "python",
   "name": "python3"
  },
  "language_info": {
   "codemirror_mode": {
    "name": "ipython",
    "version": 3
   },
   "file_extension": ".py",
   "mimetype": "text/x-python",
   "name": "python",
   "nbconvert_exporter": "python",
   "pygments_lexer": "ipython3",
   "version": "3.6.4"
  }
 },
 "nbformat": 4,
 "nbformat_minor": 2
}
