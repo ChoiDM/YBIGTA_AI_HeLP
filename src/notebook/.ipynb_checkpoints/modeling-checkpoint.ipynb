{
 "cells": [
  {
   "cell_type": "code",
   "execution_count": 1,
   "metadata": {},
   "outputs": [
    {
     "name": "stderr",
     "output_type": "stream",
     "text": [
      "/home/ubuntu/anaconda3/lib/python3.6/site-packages/h5py/__init__.py:36: FutureWarning: Conversion of the second argument of issubdtype from `float` to `np.floating` is deprecated. In future, it will be treated as `np.float64 == np.dtype(float).type`.\n",
      "  from ._conv import register_converters as _register_converters\n",
      "/home/ubuntu/anaconda3/lib/python3.6/site-packages/statsmodels/compat/pandas.py:56: FutureWarning: The pandas.core.datetools module is deprecated and will be removed in a future version. Please use the pandas.tseries module instead.\n",
      "  from pandas.core import datetools\n",
      "Using TensorFlow backend.\n"
     ]
    }
   ],
   "source": [
    "from utils.data_loader import train_data_loader, test_data_loader\n",
    "from utils.inference_tools import pred_to_binary, export_csv, making_result\n",
    "from utils.model_stacking import *\n",
    "import vecstack\n",
    "\n",
    "from xgboost import XGBClassifier\n",
    "from lightgbm import LGBMClassifier\n",
    "from sklearn.svm import SVC\n",
    "from sklearn.ensemble import RandomForestClassifier, ExtraTreesClassifier, AdaBoostClassifier\n",
    "from sklearn.linear_model import LogisticRegression, Lasso, RidgeClassifier, SGDClassifier, Lars, LassoLars\n",
    "from sklearn.model_selection import GridSearchCV, RandomizedSearchCV\n",
    "from sklearn.metrics import fbeta_score, make_scorer\n",
    "\n",
    "from keras.models import Sequential, model_from_json\n",
    "from keras.layers import Dense\n",
    "from keras.wrappers.scikit_learn import KerasClassifier\n",
    "from keras.utils import np_utils\n",
    "\n",
    "import pandas as pd\n",
    "import numpy as np\n",
    "import pickle\n",
    "import datetime\n",
    "\n",
    "import warnings\n",
    "warnings.filterwarnings('ignore')\n",
    "pd.set_option('display.max_rows', 500)\n",
    "pd.set_option('display.max_columns', 500)"
   ]
  },
  {
   "cell_type": "markdown",
   "metadata": {},
   "source": [
    "# Load Data and Pre-processing"
   ]
  },
  {
   "cell_type": "code",
   "execution_count": 2,
   "metadata": {},
   "outputs": [],
   "source": [
    "# Setting\n",
    "path = \"./data\"\n",
    "pos_dir = path+\"/train/positive/\"\n",
    "neg_dir = path+\"/train/negative/\"\n",
    "\n",
    "save_dir = path+\"/model/\"\n",
    "test_dir = path+'/test/'\n",
    "\n",
    "features = ['firstorder', 'shape']\n",
    "target_voxel = (0.65, 0.65, 3)"
   ]
  },
  {
   "cell_type": "code",
   "execution_count": 3,
   "metadata": {},
   "outputs": [
    {
     "name": "stdout",
     "output_type": "stream",
     "text": [
      "Created X of shape (6, 64) and y of shape (6,) (05:48:40)\n"
     ]
    }
   ],
   "source": [
    "norm = 'new'\n",
    "do_resample = True\n",
    "do_shuffle = True\n",
    "\n",
    "X_train, y_train = train_data_loader(pos_dir, neg_dir, norm, do_resample, do_shuffle, features, target_voxel)"
   ]
  },
  {
   "cell_type": "code",
   "execution_count": 4,
   "metadata": {},
   "outputs": [
    {
     "name": "stdout",
     "output_type": "stream",
     "text": [
      "Created X of shape (2, 64) (05:49:42)\n"
     ]
    }
   ],
   "source": [
    "norm = 'new'\n",
    "do_resample = True\n",
    "\n",
    "X_test, patient_num, error_patient = test_data_loader(test_dir, norm, do_resample, features, target_voxel)"
   ]
  },
  {
   "cell_type": "code",
   "execution_count": 5,
   "metadata": {},
   "outputs": [],
   "source": [
    "np.save(save_dir+\"X_train.npy\", X_train)\n",
    "np.save(save_dir+\"y_train.npy\", y_train)"
   ]
  },
  {
   "cell_type": "code",
   "execution_count": 6,
   "metadata": {},
   "outputs": [],
   "source": [
    "X_train = np.load(save_dir+\"X_train.npy\")\n",
    "y_train = np.load(save_dir+\"y_train.npy\")"
   ]
  },
  {
   "cell_type": "markdown",
   "metadata": {},
   "source": [
    "# Base Model"
   ]
  },
  {
   "cell_type": "markdown",
   "metadata": {},
   "source": [
    "### xgboost"
   ]
  },
  {
   "cell_type": "code",
   "execution_count": null,
   "metadata": {},
   "outputs": [],
   "source": [
    "# Fit Model with Training Data\n",
    "model1 = XGBClassifier(n_jobs=4)\n",
    "model1.fit(X_train, y_train)\n",
    "\n",
    "\n",
    "# Save model to file\n",
    "# pickle.dump(model1, open('./data/model/model1.pickle.dat', 'wb'))"
   ]
  },
  {
   "cell_type": "markdown",
   "metadata": {},
   "source": [
    "### svm"
   ]
  },
  {
   "cell_type": "code",
   "execution_count": null,
   "metadata": {},
   "outputs": [],
   "source": [
    "# Fit Model with Training Data\n",
    "model2 = SVC()\n",
    "model2.fit(X_train, y_train)\n",
    "\n",
    "\n",
    "# Save model to file\n",
    "# pickle.dump(model2, open('./data/model/model2.pickle.dat', 'wb'))"
   ]
  },
  {
   "cell_type": "markdown",
   "metadata": {},
   "source": [
    "### logistic regression"
   ]
  },
  {
   "cell_type": "code",
   "execution_count": null,
   "metadata": {},
   "outputs": [],
   "source": [
    "# Fit Model with Training Data\n",
    "model3 = LogisticRegression(n_jobs=4)\n",
    "model3.fit(X_train, y_train)\n",
    "\n",
    "\n",
    "# Save model to file\n",
    "# pickle.dump(model3, open('./data/model/model3.pickle.dat', 'wb'))"
   ]
  },
  {
   "cell_type": "markdown",
   "metadata": {},
   "source": [
    "### random forest"
   ]
  },
  {
   "cell_type": "code",
   "execution_count": null,
   "metadata": {},
   "outputs": [],
   "source": [
    "# Fit Model with Training Data\n",
    "model4 = RandomForestClassifier(n_jobs=4)\n",
    "model4.fit(X_train, y_train)\n",
    "\n",
    "\n",
    "# Save model to file\n",
    "# pickle.dump(mode4l, open('./data/model/model4.pickle.dat', 'wb'))"
   ]
  },
  {
   "cell_type": "markdown",
   "metadata": {},
   "source": [
    "<br><br><br>"
   ]
  },
  {
   "cell_type": "markdown",
   "metadata": {},
   "source": [
    "# Score"
   ]
  },
  {
   "cell_type": "code",
   "execution_count": 7,
   "metadata": {},
   "outputs": [],
   "source": [
    "BETA=0.75"
   ]
  },
  {
   "cell_type": "code",
   "execution_count": 8,
   "metadata": {},
   "outputs": [],
   "source": [
    "def new_scorer(y_true, y_pred, threshold=0.5) :\n",
    "    result = []\n",
    "    global BETA\n",
    "\n",
    "    for pred in list(y_pred) :\n",
    "        if pred >= threshold :\n",
    "            result.append(1)\n",
    "        else :\n",
    "            result.append(0)\n",
    "            \n",
    "    return fbeta_score(y_true, np.array(result), beta=BETA)"
   ]
  },
  {
   "cell_type": "code",
   "execution_count": 9,
   "metadata": {},
   "outputs": [],
   "source": [
    "scorer = make_scorer(fbeta_score, beta=BETA)"
   ]
  },
  {
   "cell_type": "markdown",
   "metadata": {},
   "source": [
    "# Modeling"
   ]
  },
  {
   "cell_type": "markdown",
   "metadata": {},
   "source": [
    "### MLP"
   ]
  },
  {
   "cell_type": "code",
   "execution_count": null,
   "metadata": {},
   "outputs": [],
   "source": []
  },
  {
   "cell_type": "code",
   "execution_count": null,
   "metadata": {},
   "outputs": [],
   "source": []
  },
  {
   "cell_type": "code",
   "execution_count": null,
   "metadata": {},
   "outputs": [],
   "source": []
  },
  {
   "cell_type": "markdown",
   "metadata": {},
   "source": [
    "### CNN"
   ]
  },
  {
   "cell_type": "code",
   "execution_count": null,
   "metadata": {},
   "outputs": [],
   "source": []
  },
  {
   "cell_type": "code",
   "execution_count": null,
   "metadata": {},
   "outputs": [],
   "source": []
  },
  {
   "cell_type": "code",
   "execution_count": null,
   "metadata": {},
   "outputs": [],
   "source": []
  },
  {
   "cell_type": "markdown",
   "metadata": {},
   "source": [
    "# Parameter Tuning & CV"
   ]
  },
  {
   "cell_type": "code",
   "execution_count": 10,
   "metadata": {},
   "outputs": [],
   "source": [
    "cv=2"
   ]
  },
  {
   "cell_type": "markdown",
   "metadata": {},
   "source": [
    "### xgboost"
   ]
  },
  {
   "cell_type": "code",
   "execution_count": 11,
   "metadata": {},
   "outputs": [],
   "source": [
    "model1 = XGBClassifier()"
   ]
  },
  {
   "cell_type": "code",
   "execution_count": 12,
   "metadata": {},
   "outputs": [
    {
     "name": "stdout",
     "output_type": "stream",
     "text": [
      "Best Score : 0.0\n",
      "Best Params : {'max_depth': 5}\n"
     ]
    }
   ],
   "source": [
    "m1_params1 = {\n",
    "    'max_depth' : [5,6,7,8],\n",
    "    'min_child_weight' : [0.5, 1, 5, 10, 15, 20],\n",
    "    'gamma' : [1.5, 2, 2.5, 3.0, 5],\n",
    "    'subsample' : [0.5, 0.6, 0.8, 1.0],\n",
    "    'colsample_bytree' : [0.5, 0.6, 0.8, 1.0],\n",
    "    'probability' : [True],\n",
    "    'learning_rate' : [0.01, 0.05, 0.1],\n",
    "    'n_estimators' : [300, 500, 700],\n",
    "    'random_state' : [1213]\n",
    "\n",
    "}\n",
    "\n",
    "m1_grid_1 = GridSearchCV(model1, param_grid=m1_params1, scoring=scorer, cv=cv, verbose=0, n_jobs=-1)\n",
    "m1_grid_1.fit(X_train, y_train)\n",
    "\n",
    "best_model1 = m1_grid_1.best_estimator_\n",
    "\n",
    "print(\"Best Score : {}\".format(m1_grid_1.best_score_))\n",
    "print(\"Best Params : {}\".format(m1_grid_1.best_params_))"
   ]
  },
  {
   "cell_type": "markdown",
   "metadata": {},
   "source": [
    "### svm"
   ]
  },
  {
   "cell_type": "code",
   "execution_count": 13,
   "metadata": {},
   "outputs": [],
   "source": [
    "model2 = SVC()"
   ]
  },
  {
   "cell_type": "code",
   "execution_count": 14,
   "metadata": {},
   "outputs": [
    {
     "name": "stdout",
     "output_type": "stream",
     "text": [
      "Best Score : 0.6097560975609756\n",
      "Best Params : {'C': 0.001, 'degree': 2, 'gamma': 0.001, 'probability': True}\n"
     ]
    }
   ],
   "source": [
    "m2_params1 = {\n",
    "    'C': [0.001, 0.01, 0.1, 1, 10, 100], \n",
    "    'gamma' : [0.001, 0.01, 0.1, 1, 2, 5, 10, 20],\n",
    "    'degree' : [2,3,4],\n",
    "    'probability' : [True]\n",
    "}\n",
    "\n",
    "m2_grid_1 = GridSearchCV(model2, param_grid=m2_params1, scoring=scorer, cv=cv, verbose=0, n_jobs=-1)\n",
    "m2_grid_1.fit(X_train, y_train)\n",
    "\n",
    "best_model2 = m2_grid_1.best_estimator_\n",
    "\n",
    "print(\"Best Score : {}\".format(m2_grid_1.best_score_))\n",
    "print(\"Best Params : {}\".format(m2_grid_1.best_params_))"
   ]
  },
  {
   "cell_type": "markdown",
   "metadata": {},
   "source": [
    "### logistic regression"
   ]
  },
  {
   "cell_type": "code",
   "execution_count": 15,
   "metadata": {},
   "outputs": [],
   "source": [
    "model3 = LogisticRegression()"
   ]
  },
  {
   "cell_type": "code",
   "execution_count": 16,
   "metadata": {},
   "outputs": [
    {
     "name": "stdout",
     "output_type": "stream",
     "text": [
      "Best Score : 0.2032520325203252\n",
      "Best Params : {'C': 0.001, 'max_iter': 100}\n"
     ]
    }
   ],
   "source": [
    "m3_params1 = {\n",
    "    'C': [0.001, 0.01, 0.1, 1, 10, 100],\n",
    "    'max_iter' : [n for n in range(100,1101, 200)],\n",
    "}\n",
    "\n",
    "m3_grid_1 = GridSearchCV(model3, param_grid=m3_params1, scoring=scorer, cv=cv, verbose=0, n_jobs=-1)\n",
    "m3_grid_1.fit(X_train, y_train)\n",
    "\n",
    "best_model3 = m3_grid_1.best_estimator_\n",
    "\n",
    "print(\"Best Score : {}\".format(m3_grid_1.best_score_))\n",
    "print(\"Best Params : {}\".format(m3_grid_1.best_params_))"
   ]
  },
  {
   "cell_type": "markdown",
   "metadata": {},
   "source": [
    "### random forest"
   ]
  },
  {
   "cell_type": "code",
   "execution_count": 17,
   "metadata": {},
   "outputs": [],
   "source": [
    "model4 = RandomForestClassifier()"
   ]
  },
  {
   "cell_type": "code",
   "execution_count": 18,
   "metadata": {},
   "outputs": [
    {
     "name": "stdout",
     "output_type": "stream",
     "text": [
      "Best Score : 0.823529411764706\n",
      "Best Params : {'max_depth': 8}\n"
     ]
    }
   ],
   "source": [
    "m4_params1 = {\n",
    "    'max_depth' : [6, 8, 10, 15, 20, 30, 40, 50],\n",
    "    'min_samples_leaf': [1, 2, 3, 4, 5,10, 20, 50],\n",
    "    'n_estimators' : [100, 300, 500],\n",
    "    'random_state' : [1213]\n",
    "}\n",
    "\n",
    "m4_grid_1 = GridSearchCV(model4, param_grid=m4_params1, scoring=scorer, cv=cv, verbose=0, n_jobs=-1)\n",
    "m4_grid_1.fit(X_train, y_train)\n",
    "\n",
    "best_model4 = m4_grid_1.best_estimator_\n",
    "\n",
    "print(\"Best Score : {}\".format(m4_grid_1.best_score_))\n",
    "print(\"Best Params : {}\".format(m4_grid_1.best_params_))"
   ]
  },
  {
   "cell_type": "markdown",
   "metadata": {},
   "source": [
    "### lasso regression"
   ]
  },
  {
   "cell_type": "code",
   "execution_count": 19,
   "metadata": {},
   "outputs": [],
   "source": [
    "model5 = LogisticRegression()"
   ]
  },
  {
   "cell_type": "code",
   "execution_count": 20,
   "metadata": {},
   "outputs": [
    {
     "name": "stdout",
     "output_type": "stream",
     "text": [
      "Best Score : 0.6666666666666666\n",
      "Best Params : {'C': 10, 'max_iter': 1100, 'penalty': 'l1'}\n"
     ]
    }
   ],
   "source": [
    "m5_params1 = {\n",
    "    'C': [0.001, 0.01, 0.1, 1, 10, 100],\n",
    "    'max_iter' : [n for n in range(100,1101, 200)],\n",
    "    'penalty' : [\"l1\"]\n",
    "}\n",
    "\n",
    "m5_grid_1 = GridSearchCV(model5, param_grid=m5_params1, scoring=scorer, cv=cv, verbose=0, n_jobs=-1)\n",
    "m5_grid_1.fit(X_train, y_train)\n",
    "\n",
    "best_model5 = m5_grid_1.best_estimator_\n",
    "\n",
    "print(\"Best Score : {}\".format(m5_grid_1.best_score_))\n",
    "print(\"Best Params : {}\".format(m5_grid_1.best_params_))"
   ]
  },
  {
   "cell_type": "markdown",
   "metadata": {},
   "source": [
    "### ridge regression"
   ]
  },
  {
   "cell_type": "code",
   "execution_count": 21,
   "metadata": {},
   "outputs": [],
   "source": [
    "model6 = RidgeClassifier()"
   ]
  },
  {
   "cell_type": "code",
   "execution_count": 22,
   "metadata": {},
   "outputs": [
    {
     "name": "stdout",
     "output_type": "stream",
     "text": [
      "Best Score : 0.4557772850455777\n",
      "Best Params : {'alpha': 0.1, 'max_iter': None}\n"
     ]
    }
   ],
   "source": [
    "m6_params1 = {\n",
    "    'alpha': [0.1, 1, 2, 5, 10, 20, 50, 100],\n",
    "    'max_iter' : [None]+[n for n in range(100,1101, 200)]\n",
    "}\n",
    "\n",
    "m6_grid_1 = GridSearchCV(model6, param_grid=m6_params1, scoring=scorer, cv=cv, verbose=0, n_jobs=-1)\n",
    "m6_grid_1.fit(X_train, y_train)\n",
    "\n",
    "best_model6 = m6_grid_1.best_estimator_\n",
    "\n",
    "print(\"Best Score : {}\".format(m6_grid_1.best_score_))\n",
    "print(\"Best Params : {}\".format(m6_grid_1.best_params_))"
   ]
  },
  {
   "cell_type": "markdown",
   "metadata": {},
   "source": [
    "### elasticNet"
   ]
  },
  {
   "cell_type": "code",
   "execution_count": 23,
   "metadata": {},
   "outputs": [],
   "source": [
    "model7 = SGDClassifier()"
   ]
  },
  {
   "cell_type": "code",
   "execution_count": 24,
   "metadata": {},
   "outputs": [
    {
     "name": "stdout",
     "output_type": "stream",
     "text": [
      "Best Score : 0.2032520325203252\n",
      "Best Params : {'alpha': 0.001}\n"
     ]
    }
   ],
   "source": [
    "m7_params1 = {\n",
    "    'alpha': [0.001, 0.01, 0.1, 1, 2, 5, 10, 20, 50, 100],\n",
    "    'l1_ratio':[0.1, 0.15, 0.2, 0.3, 0.4, 0.5, 0.6, 0.7], \n",
    "    'max_iter' : [None]+[n for n in range(800, 1601, 200)],\n",
    "    'penalty' : [\"elasticnet\"],\n",
    "    'loss' : [\"log\"]\n",
    "}\n",
    "\n",
    "m7_grid_1 = GridSearchCV(model7, param_grid=m7_params1, scoring=scorer, cv=cv, verbose=0, n_jobs=-1)\n",
    "m7_grid_1.fit(X_train, y_train)\n",
    "\n",
    "best_model7 = m7_grid_1.best_estimator_\n",
    "\n",
    "print(\"Best Score : {}\".format(m7_grid_1.best_score_))\n",
    "print(\"Best Params : {}\".format(m7_grid_1.best_params_))"
   ]
  },
  {
   "cell_type": "markdown",
   "metadata": {},
   "source": [
    "### LARS"
   ]
  },
  {
   "cell_type": "code",
   "execution_count": 25,
   "metadata": {},
   "outputs": [],
   "source": [
    "model8 = Lars()"
   ]
  },
  {
   "cell_type": "code",
   "execution_count": 26,
   "metadata": {},
   "outputs": [
    {
     "name": "stdout",
     "output_type": "stream",
     "text": [
      "Best Score : 0.25\n",
      "Threshold : 0.5\n",
      "Best Params : {'n_nonzero_coefs': 30}\n"
     ]
    }
   ],
   "source": [
    "m8_params1 = {\n",
    "    'n_nonzero_coefs': [n for n in range(30, 150, 20)]\n",
    "}\n",
    "\n",
    "max_score=0\n",
    "m8_best_t = 0\n",
    "best_model8 = \"\"\n",
    "m8_best_grid_1 = \"\"\n",
    "\n",
    "for t in [0, 0.05, 0.1, 0.2, 0.25, 0.3, 0.45, 0.4, 0.45, 0.5, 0.6] :\n",
    "    scorer2 = make_scorer(new_scorer, threshold=t)\n",
    "    m8_grid_1 = GridSearchCV(model8, param_grid=m8_params1, scoring=scorer2, cv=cv, verbose=0, n_jobs=-1)\n",
    "    m8_grid_1.fit(X_train, y_train)\n",
    "\n",
    "    if max_score < m8_grid_1.best_score_ :\n",
    "        best_model8 = m8_grid_1.best_estimator_\n",
    "        m8_best_t = t\n",
    "        m8_best_grid_1 = m8_grid_1\n",
    "        \n",
    "m8_grid_1 = m8_best_grid_1\n",
    "best_model8 = m8_grid_1.best_estimator_\n",
    "\n",
    "print(\"Best Score : {}\".format(m8_grid_1.best_score_))     \n",
    "print(\"Threshold :\", m8_best_t)\n",
    "print(\"Best Params : {}\".format(m8_grid_1.best_params_))"
   ]
  },
  {
   "cell_type": "markdown",
   "metadata": {},
   "source": [
    "### LARS lasso"
   ]
  },
  {
   "cell_type": "code",
   "execution_count": 27,
   "metadata": {},
   "outputs": [],
   "source": [
    "model9 = LassoLars()"
   ]
  },
  {
   "cell_type": "code",
   "execution_count": 28,
   "metadata": {},
   "outputs": [
    {
     "name": "stdout",
     "output_type": "stream",
     "text": [
      "Best Score : 0.21929824561403502\n",
      "Threshold : 0.6\n",
      "Best Params : {'alpha': 1, 'max_iter': 800}\n"
     ]
    }
   ],
   "source": [
    "m9_params1 = {\n",
    "    'alpha': [0.1, 1, 2, 5, 10, 20, 50, 100],\n",
    "    'max_iter' : [n for n in range(800, 1601, 200)]\n",
    "}\n",
    "\n",
    "max_score=0\n",
    "m9_best_t = 0\n",
    "best_model9 = \"\"\n",
    "m9_best_grid_1 = \"\"\n",
    "for t in [0, 0.05, 0.1, 0.2, 0.25, 0.3, 0.45, 0.4, 0.45, 0.5, 0.6] :\n",
    "    scorer2 = make_scorer(new_scorer, threshold=t)\n",
    "    m9_grid_1 = GridSearchCV(model9, param_grid=m9_params1, scoring=scorer2, cv=cv, verbose=0, n_jobs=-1)\n",
    "    m9_grid_1.fit(X_train, y_train)\n",
    "\n",
    "    if max_score < m9_grid_1.best_score_ :\n",
    "        best_model9 = m9_grid_1.best_estimator_\n",
    "        m9_best_t = t\n",
    "        m9_best_grid_1 = m9_grid_1\n",
    "\n",
    "m9_grid_1 = m9_best_grid_1\n",
    "best_model9 = m9_grid_1.best_estimator_\n",
    "\n",
    "print(\"Best Score : {}\".format(m9_grid_1.best_score_))     \n",
    "print(\"Threshold :\", m9_best_t)\n",
    "print(\"Best Params : {}\".format(m9_grid_1.best_params_))"
   ]
  },
  {
   "cell_type": "markdown",
   "metadata": {},
   "source": [
    "### ExtraTree"
   ]
  },
  {
   "cell_type": "code",
   "execution_count": 29,
   "metadata": {},
   "outputs": [],
   "source": [
    "model10 = ExtraTreesClassifier()"
   ]
  },
  {
   "cell_type": "code",
   "execution_count": 30,
   "metadata": {},
   "outputs": [
    {
     "name": "stdout",
     "output_type": "stream",
     "text": [
      "Best Score : 0.6934481109516978\n",
      "Best Params : {'max_depth': 3, 'n_estimators': 10}\n"
     ]
    }
   ],
   "source": [
    "m10_params1 = {\n",
    "    'max_depth' : [None, 3, 5, 7, 9],\n",
    "    'n_estimators' : [10, 50, 100, 300, 500],\n",
    "    'random_state' : [1213]\n",
    "}\n",
    "\n",
    "m10_grid_1 = GridSearchCV(model10, param_grid=m10_params1, scoring=scorer, cv=cv, verbose=0, n_jobs=-1)\n",
    "m10_grid_1.fit(X_train, y_train)\n",
    "\n",
    "best_model10 = m10_grid_1.best_estimator_\n",
    "\n",
    "print(\"Best Score : {}\".format(m10_grid_1.best_score_))\n",
    "print(\"Best Params : {}\".format(m10_grid_1.best_params_))"
   ]
  },
  {
   "cell_type": "markdown",
   "metadata": {},
   "source": [
    "### AdaBoost"
   ]
  },
  {
   "cell_type": "code",
   "execution_count": 31,
   "metadata": {},
   "outputs": [],
   "source": [
    "model11 = AdaBoostClassifier()"
   ]
  },
  {
   "cell_type": "code",
   "execution_count": 32,
   "metadata": {},
   "outputs": [
    {
     "name": "stdout",
     "output_type": "stream",
     "text": [
      "Best Score : 0.8383838383838382\n",
      "Best Params : {'algorithm': 'SAMME.R', 'learning_rate': 0.05, 'n_estimators': 100}\n"
     ]
    }
   ],
   "source": [
    "m11_params1 = {\n",
    "    'n_estimators' : [100, 300, 500],\n",
    "    'learning_rate' : [0.01, 0.05, 0.1],\n",
    "    'algorithm' :['SAMME.R'],\n",
    "    'random_state' : [1213]\n",
    "}\n",
    "\n",
    "m11_grid_1 = GridSearchCV(model11, param_grid=m11_params1, scoring=scorer, cv=cv, verbose=0, n_jobs=-1)\n",
    "m11_grid_1.fit(X_train, y_train)\n",
    "\n",
    "best_model11 = m11_grid_1.best_estimator_\n",
    "\n",
    "print(\"Best Score : {}\".format(m11_grid_1.best_score_))\n",
    "print(\"Best Params : {}\".format(m11_grid_1.best_params_))"
   ]
  },
  {
   "cell_type": "markdown",
   "metadata": {},
   "source": [
    "### lightgbm"
   ]
  },
  {
   "cell_type": "code",
   "execution_count": 33,
   "metadata": {},
   "outputs": [],
   "source": [
    "model12 = LGBMClassifier()"
   ]
  },
  {
   "cell_type": "code",
   "execution_count": 34,
   "metadata": {},
   "outputs": [
    {
     "name": "stdout",
     "output_type": "stream",
     "text": [
      "Best Score : 0.0\n",
      "Best Params : {'max_depth': -1, 'min_child_weight': 0.5}\n"
     ]
    }
   ],
   "source": [
    "m12_params1 = {\n",
    "    'max_depth' : [-1,5,7,9],\n",
    "    'min_child_weight' : [0.5, 1, 5, 10],\n",
    "    'colsample_bytree' : [0.6, 0.8, 1.0],\n",
    "    'subsample' : [0.6, 0.8, 1.0],\n",
    "    'probability' : [True],\n",
    "    'learning_rate' : [0.05, 0.1],\n",
    "    'n_estimators' : [100, 300, 500],\n",
    "    'reg_alpha' : [0.0, 1.0, 5.0, 10.0], \n",
    "    'reg_lambda' : [0.0, 1.0, 5.0, 10.0],\n",
    "    'random_state' : [1213]\n",
    "}\n",
    "\n",
    "m12_grid_1 = GridSearchCV(model12, param_grid=m12_params1, scoring=scorer, cv=cv, verbose=0, n_jobs=-1)\n",
    "m12_grid_1.fit(X_train, y_train)\n",
    "\n",
    "best_model12 = m12_grid_1.best_estimator_\n",
    "\n",
    "print(\"Best Score : {}\".format(m12_grid_1.best_score_))\n",
    "print(\"Best Params : {}\".format(m12_grid_1.best_params_))"
   ]
  },
  {
   "cell_type": "markdown",
   "metadata": {},
   "source": [
    "# Model Stacking"
   ]
  },
  {
   "cell_type": "code",
   "execution_count": 63,
   "metadata": {
    "scrolled": true
   },
   "outputs": [
    {
     "name": "stdout",
     "output_type": "stream",
     "text": [
      "Best Score : 0.5555555555555556\n",
      "Best Params : {'colsample_bytree': 1.0, 'gamma': 1.5, 'learning_rate': 0.05, 'max_depth': 2, 'min_child_weight': 0.5, 'n_estimators': 300, 'probability': True, 'subsample': 0.5}\n",
      "Best Score : 0.8518518518518517\n",
      "Best Params : {'C': 0.001, 'max_iter': 100}\n",
      "Epoch 1/20\n",
      "6/6 [==============================] - 0s 47ms/step - loss: 0.6920 - acc: 0.6667\n",
      "Epoch 2/20\n",
      "6/6 [==============================] - 0s 435us/step - loss: 0.6847 - acc: 0.6667\n",
      "Epoch 3/20\n",
      "6/6 [==============================] - 0s 310us/step - loss: 0.6777 - acc: 0.6667\n",
      "Epoch 4/20\n",
      "6/6 [==============================] - 0s 174us/step - loss: 0.6708 - acc: 0.6667\n",
      "Epoch 5/20\n",
      "6/6 [==============================] - 0s 194us/step - loss: 0.6640 - acc: 0.8333\n",
      "Epoch 6/20\n",
      "6/6 [==============================] - 0s 191us/step - loss: 0.6574 - acc: 0.8333\n",
      "Epoch 7/20\n",
      "6/6 [==============================] - 0s 196us/step - loss: 0.6509 - acc: 0.8333\n",
      "Epoch 8/20\n",
      "6/6 [==============================] - 0s 190us/step - loss: 0.6446 - acc: 0.8333\n",
      "Epoch 9/20\n",
      "6/6 [==============================] - 0s 188us/step - loss: 0.6383 - acc: 0.8333\n",
      "Epoch 10/20\n",
      "6/6 [==============================] - 0s 194us/step - loss: 0.6319 - acc: 0.8333\n",
      "Epoch 11/20\n",
      "6/6 [==============================] - 0s 193us/step - loss: 0.6256 - acc: 0.8333\n",
      "Epoch 12/20\n",
      "6/6 [==============================] - 0s 191us/step - loss: 0.6192 - acc: 0.8333\n",
      "Epoch 13/20\n",
      "6/6 [==============================] - 0s 185us/step - loss: 0.6128 - acc: 0.8333\n",
      "Epoch 14/20\n",
      "6/6 [==============================] - 0s 182us/step - loss: 0.6065 - acc: 0.8333\n",
      "Epoch 15/20\n",
      "6/6 [==============================] - 0s 184us/step - loss: 0.6003 - acc: 0.8333\n",
      "Epoch 16/20\n",
      "6/6 [==============================] - 0s 196us/step - loss: 0.5942 - acc: 0.8333\n",
      "Epoch 17/20\n",
      "6/6 [==============================] - 0s 165us/step - loss: 0.5882 - acc: 0.8333\n",
      "Epoch 18/20\n",
      "6/6 [==============================] - 0s 200us/step - loss: 0.5824 - acc: 0.8333\n",
      "Epoch 19/20\n",
      "6/6 [==============================] - 0s 193us/step - loss: 0.5768 - acc: 0.8333\n",
      "Epoch 20/20\n",
      "6/6 [==============================] - 0s 183us/step - loss: 0.5713 - acc: 0.8333\n",
      "Epoch 1/20\n",
      "6/6 [==============================] - 0s 42ms/step - loss: 0.8488 - acc: 0.1667\n",
      "Epoch 2/20\n",
      "6/6 [==============================] - 0s 350us/step - loss: 0.8466 - acc: 0.1667\n",
      "Epoch 3/20\n",
      "6/6 [==============================] - 0s 168us/step - loss: 0.8445 - acc: 0.1667\n",
      "Epoch 4/20\n",
      "6/6 [==============================] - 0s 212us/step - loss: 0.8424 - acc: 0.1667\n",
      "Epoch 5/20\n",
      "6/6 [==============================] - 0s 183us/step - loss: 0.8403 - acc: 0.1667\n",
      "Epoch 6/20\n",
      "6/6 [==============================] - 0s 170us/step - loss: 0.8382 - acc: 0.1667\n",
      "Epoch 7/20\n",
      "6/6 [==============================] - 0s 184us/step - loss: 0.8361 - acc: 0.1667\n",
      "Epoch 8/20\n",
      "6/6 [==============================] - 0s 144us/step - loss: 0.8340 - acc: 0.1667\n",
      "Epoch 9/20\n",
      "6/6 [==============================] - 0s 143us/step - loss: 0.8320 - acc: 0.1667\n",
      "Epoch 10/20\n",
      "6/6 [==============================] - 0s 199us/step - loss: 0.8299 - acc: 0.1667\n",
      "Epoch 11/20\n",
      "6/6 [==============================] - 0s 151us/step - loss: 0.8278 - acc: 0.1667\n",
      "Epoch 12/20\n",
      "6/6 [==============================] - 0s 186us/step - loss: 0.8257 - acc: 0.1667\n",
      "Epoch 13/20\n",
      "6/6 [==============================] - 0s 183us/step - loss: 0.8237 - acc: 0.1667\n",
      "Epoch 14/20\n",
      "6/6 [==============================] - 0s 185us/step - loss: 0.8216 - acc: 0.1667\n",
      "Epoch 15/20\n",
      "6/6 [==============================] - 0s 194us/step - loss: 0.8196 - acc: 0.1667\n",
      "Epoch 16/20\n",
      "6/6 [==============================] - 0s 187us/step - loss: 0.8176 - acc: 0.1667\n",
      "Epoch 17/20\n",
      "6/6 [==============================] - 0s 221us/step - loss: 0.8155 - acc: 0.1667\n",
      "Epoch 18/20\n",
      "6/6 [==============================] - 0s 205us/step - loss: 0.8135 - acc: 0.1667\n",
      "Epoch 19/20\n",
      "6/6 [==============================] - 0s 206us/step - loss: 0.8115 - acc: 0.1667\n",
      "Epoch 20/20\n",
      "6/6 [==============================] - 0s 164us/step - loss: 0.8095 - acc: 0.1667\n"
     ]
    }
   ],
   "source": [
    "# layer1\n",
    "models = [best_model1, best_model2, best_model3, best_model4, best_model5, best_model6, \n",
    "          best_model7, best_model8, best_model9, best_model10, best_model11, best_model12]\n",
    "S_models = get_stacking_base_model(models, [1,4,10,11,12])\n",
    "\n",
    "S_train, S_test = vecstack.stacking(S_models, X_train, y_train, X_test, regression = False, metric=scorer, n_folds=cv, needs_proba=True, random_state=1213)\n",
    "\n",
    "meta_xgb = stacking_xgb(S_train, y_train, cv=cv, beta=0.5)\n",
    "meta_logistic = stacking_logistic(S_train, y_train, cv=cv, beta=0.5)\n",
    "meta_NN = stacking_NN(S_train, y_train, cv=cv)\n",
    "meta_weight = stacking_weight(S_train, y_train, cv=cv)\n",
    "\n",
    "y_pred_lst = []\n",
    "y_pred_binary_lst =[]\n",
    "y_pred_lst2 = []\n",
    "y_pred_binary_lst2 =[]\n",
    "threshold = \"auto\"\n",
    "\n",
    "for meta in [meta_xgb, meta_logistic, meta_NN, meta_weight] :\n",
    "    pred = meta.predict_proba(S_train)[:, 1]\n",
    "    y_pred_lst.append(pred)\n",
    "    y_pred_binary_lst.append(pred_to_binary(pred, threshold = threshold))"
   ]
  },
  {
   "cell_type": "code",
   "execution_count": 67,
   "metadata": {},
   "outputs": [
    {
     "data": {
      "text/plain": [
       "array([[3.35868478e-01, 6.64131522e-01, 4.00000000e-01, 6.00000000e-01,\n",
       "        4.00000000e-01, 6.00000000e-01, 2.22044605e-16, 1.00000000e+00,\n",
       "        3.33333333e-01, 6.66666667e-01],\n",
       "       [3.35868478e-01, 6.64131522e-01, 6.00000000e-01, 4.00000000e-01,\n",
       "        6.00000000e-01, 4.00000000e-01, 1.00000000e+00, 2.22044605e-16,\n",
       "        3.33333333e-01, 6.66666667e-01],\n",
       "       [3.35868478e-01, 6.64131522e-01, 2.00000000e-01, 8.00000000e-01,\n",
       "        1.00000000e-01, 9.00000000e-01, 2.22044605e-16, 1.00000000e+00,\n",
       "        3.33333333e-01, 6.66666667e-01],\n",
       "       [6.64131522e-01, 3.35868508e-01, 1.00000000e+00, 0.00000000e+00,\n",
       "        7.00000000e-01, 3.00000000e-01, 1.00000000e+00, 2.22044605e-16,\n",
       "        6.66666667e-01, 3.33333333e-01],\n",
       "       [6.64131522e-01, 3.35868508e-01, 8.00000000e-01, 2.00000000e-01,\n",
       "        8.00000000e-01, 2.00000000e-01, 1.00000000e+00, 2.22044605e-16,\n",
       "        6.66666667e-01, 3.33333333e-01],\n",
       "       [6.64131522e-01, 3.35868508e-01, 7.00000000e-01, 3.00000000e-01,\n",
       "        3.00000000e-01, 7.00000000e-01, 1.00000000e+00, 2.22044605e-16,\n",
       "        6.66666667e-01, 3.33333333e-01]])"
      ]
     },
     "execution_count": 67,
     "metadata": {},
     "output_type": "execute_result"
    }
   ],
   "source": [
    "S_train"
   ]
  },
  {
   "cell_type": "code",
   "execution_count": 75,
   "metadata": {},
   "outputs": [
    {
     "name": "stdout",
     "output_type": "stream",
     "text": [
      "        m_1  m_4  m_10          m_11      m_12   stack_1   stack_2   stack_3  \\\n",
      "0  0.664132  0.6   0.6  1.000000e+00  0.666667  0.424758  0.499662  0.347989   \n",
      "1  0.664132  0.4   0.4  2.220446e-16  0.666667  0.527032  0.500282  0.586138   \n",
      "2  0.664132  0.8   0.9  1.000000e+00  0.666667  0.424758  0.499510  0.366814   \n",
      "3  0.335869  0.0   0.3  2.220446e-16  0.333333  0.527032  0.500479  0.628183   \n",
      "4  0.335869  0.2   0.2  2.220446e-16  0.333333  0.527032  0.500456  0.612053   \n",
      "5  0.335869  0.3   0.7  2.220446e-16  0.333333  0.424758  0.500266  0.639474   \n",
      "\n",
      "    stack_4  stack_b_1  stack_b_2  stack_b_3  stack_b_4  Y  \n",
      "0  0.580643        0.0        0.0        0.0        1.0  0  \n",
      "1  0.480269        1.0        1.0        0.0        1.0  1  \n",
      "2  0.615754        0.0        0.0        0.0        1.0  0  \n",
      "3  0.407165        1.0        1.0        1.0        0.0  1  \n",
      "4  0.465767        1.0        1.0        1.0        0.0  1  \n",
      "5  0.463833        0.0        0.0        1.0        0.0  0  \n"
     ]
    }
   ],
   "source": [
    "S_train = S_train[:,[idx+1 for idx in range(0,len([1,4,10,11,12])*2,2)]]\n",
    "print(making_result(S_train, y_pred_lst, y_pred_binary_lst, y_pred_lst2, y_pred_binary_lst2, [1,4,10,11,12], [1,2,3,4], [], y_train))"
   ]
  },
  {
   "cell_type": "markdown",
   "metadata": {},
   "source": [
    "# Save"
   ]
  },
  {
   "cell_type": "code",
   "execution_count": 59,
   "metadata": {},
   "outputs": [],
   "source": [
    "pickle.dump(best_model1, open(path+'/model/model1.pickle.dat', 'wb'))\n",
    "pickle.dump(best_model2, open(path+'/model/model2.pickle.dat', 'wb'))\n",
    "pickle.dump(best_model3, open(path+'/model/model3.pickle.dat', 'wb'))\n",
    "pickle.dump(best_model4, open(path+'/model/model4.pickle.dat', 'wb'))\n",
    "pickle.dump(best_model5, open(path+'/model/model5.pickle.dat', 'wb'))\n",
    "pickle.dump(best_model6, open(path+'/model/model6.pickle.dat', 'wb'))\n",
    "pickle.dump(best_model7, open(path+'/model/model7.pickle.dat', 'wb'))\n",
    "pickle.dump(best_model8, open(path+'/model/model8.pickle.dat', 'wb'))\n",
    "pickle.dump(best_model9, open(path+'/model/model9.pickle.dat', 'wb'))\n",
    "pickle.dump(best_model10, open(path+'/model/model10.pickle.dat', 'wb'))\n",
    "pickle.dump(best_model11, open(path+'/model/model11.pickle.dat', 'wb'))\n",
    "pickle.dump(best_model12, open(path+'/model/model12.pickle.dat', 'wb'))"
   ]
  },
  {
   "cell_type": "code",
   "execution_count": 60,
   "metadata": {},
   "outputs": [],
   "source": [
    "pickle.dump(meta_xgb, open(path+'/model/meta_xgb.pickle.dat', 'wb'))\n",
    "pickle.dump(meta_logistic, open(path+'/model/meta_logistic.pickle.dat', 'wb'))\n",
    "\n",
    "meta_NN.model.save_weights(path+'/model/meta_NN.h5')\n",
    "with open(path+'/model/meta_NN.json', 'w') as f :\n",
    "    f.write(meta_NN.model.to_json())\n",
    "    \n",
    "meta_weight.model.save_weights(path+'/model/meta_weight.h5')\n",
    "with open(path+'/model/meta_weight.json', 'w') as f :\n",
    "    f.write(meta_weight.model.to_json())"
   ]
  },
  {
   "cell_type": "markdown",
   "metadata": {},
   "source": [
    "# Loading & Prediction"
   ]
  },
  {
   "cell_type": "code",
   "execution_count": 61,
   "metadata": {},
   "outputs": [],
   "source": [
    "model1 = pickle.load(open(path+'/model/model1.pickle.dat', 'rb'))\n",
    "model2 = pickle.load(open(path+'/model/model2.pickle.dat', 'rb'))\n",
    "model3 = pickle.load(open(path+'/model/model3.pickle.dat', 'rb'))\n",
    "model4 = pickle.load(open(path+'/model/model4.pickle.dat', 'rb'))\n",
    "model5 = pickle.load(open(path+'/model/model5.pickle.dat', 'rb'))\n",
    "model6 = pickle.load(open(path+'/model/model6.pickle.dat', 'rb'))\n",
    "model7 = pickle.load(open(path+'/model/model7.pickle.dat', 'rb'))\n",
    "model8 = pickle.load(open(path+'/model/model8.pickle.dat', 'rb'))\n",
    "model9 = pickle.load(open(path+'/model/model9.pickle.dat', 'rb'))\n",
    "model10 = pickle.load(open(path+'/model/model10.pickle.dat', 'rb'))\n",
    "model11 = pickle.load(open(path+'/model/model11.pickle.dat', 'rb'))\n",
    "model12 = pickle.load(open(path+'/model/model12.pickle.dat', 'rb'))"
   ]
  },
  {
   "cell_type": "code",
   "execution_count": 62,
   "metadata": {},
   "outputs": [],
   "source": [
    "meta_xgb = pickle.load(open(path+'/model/meta_xgb.pickle.dat', 'rb'))\n",
    "meta_logistic = pickle.load(open(path+'/model/meta_logistic.pickle.dat', 'rb'))\n",
    "\n",
    "with open(path+'/model/meta_NN.json', 'r') as f :\n",
    "    meta_NN = model_from_json(f.read())\n",
    "meta_NN.model.load_weights(path+'/model/meta_NN.h5')\n",
    "\n",
    "with open(path+'/model/meta_weight.json', 'r') as f :\n",
    "    meta_weight = model_from_json(f.read())\n",
    "meta_weight.model.load_weights(path+'/model/meta_weight.h5')"
   ]
  },
  {
   "cell_type": "markdown",
   "metadata": {},
   "source": [
    "<br><br>"
   ]
  },
  {
   "cell_type": "code",
   "execution_count": 64,
   "metadata": {},
   "outputs": [
    {
     "name": "stdout",
     "output_type": "stream",
     "text": [
      "\n",
      "---------- Inference ----------\n",
      "   m_1  m_4  m_10  m_11  m_12   stack_1  stack_2   stack_3   stack_4  \\\n",
      "0    0    0     0     0     0  0.516906      0.5  0.491942  0.485411   \n",
      "1    0    0     0     0     0  0.516906      0.5  0.491942  0.485411   \n",
      "\n",
      "   stack_b_1  stack_b_2  stack_b_3  stack_b_4    Y  \n",
      "0        0.0        0.0        0.0        0.0  0.0  \n",
      "1        0.0        0.0        0.0        0.0  0.0  \n"
     ]
    }
   ],
   "source": [
    "threshold = \"auto\"\n",
    "\n",
    "models = [model1, model2, model3, model4, model5, model6, model7, model8, model9, model10, model11, model12]\n",
    "models2 = [meta_xgb, meta_logistic, meta_NN, meta_weight]\n",
    "models3 = []\n",
    "\n",
    "print(\"\\n---------- Inference ----------\")\n",
    "S_models = get_stacking_base_model(models, [1,4,10,11,12])\n",
    "S_train, S_test = vecstack.stacking(S_models, X_train, y_train, X_test, regression = False, metric=scorer, n_folds = cv, verbose = 0)\n",
    "\n",
    "y_pred_lst = []\n",
    "y_pred_binary_lst =[]\n",
    "y_pred_lst2 = []\n",
    "y_pred_binary_lst2 =[]\n",
    "\n",
    "for meta in models2 :\n",
    "    pred = meta.predict_proba(S_test)[:, 1]\n",
    "    y_pred_lst.append(pred)\n",
    "    y_pred_binary_lst.append(pred_to_binary(pred, threshold = threshold))\n",
    "\n",
    "final, final_df = export_csv(patient_num, error_patient, y_pred_binary_lst, y_pred_lst, path = path, index=2)\n",
    "print(making_result(S_test, y_pred_lst, y_pred_binary_lst, y_pred_lst2, y_pred_binary_lst2, [1,4,10,11,12], [1,2,3,4], [], final))"
   ]
  },
  {
   "cell_type": "code",
   "execution_count": null,
   "metadata": {},
   "outputs": [],
   "source": []
  }
 ],
 "metadata": {
  "kernelspec": {
   "display_name": "Python 3",
   "language": "python",
   "name": "python3"
  },
  "language_info": {
   "codemirror_mode": {
    "name": "ipython",
    "version": 3
   },
   "file_extension": ".py",
   "mimetype": "text/x-python",
   "name": "python",
   "nbconvert_exporter": "python",
   "pygments_lexer": "ipython3",
   "version": "3.6.4"
  }
 },
 "nbformat": 4,
 "nbformat_minor": 2
}
