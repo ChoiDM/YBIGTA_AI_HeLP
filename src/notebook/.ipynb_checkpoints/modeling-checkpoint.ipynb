{
 "cells": [
  {
   "cell_type": "code",
   "execution_count": 3,
   "metadata": {},
   "outputs": [],
   "source": [
    "from utils.data_loader import train_data_loader, test_data_loader\n",
    "from utils.inference_tools import pred_to_binary, export_csv, making_result\n",
    "from utils.model_stacking import *\n",
    "\n",
    "from xgboost import XGBClassifier\n",
    "from lightgbm import LGBMClassifier\n",
    "from sklearn.svm import SVC\n",
    "from sklearn.ensemble import RandomForestClassifier, ExtraTreesClassifier, AdaBoostClassifier\n",
    "from sklearn.linear_model import LogisticRegression, Lasso, RidgeClassifier, SGDClassifier, Lars, LassoLars\n",
    "from sklearn.model_selection import GridSearchCV, RandomizedSearchCV\n",
    "from sklearn.metrics import fbeta_score, make_scorer\n",
    "\n",
    "from keras.models import Sequential, model_from_json\n",
    "from keras.layers import Dense\n",
    "from keras.wrappers.scikit_learn import KerasClassifier\n",
    "from keras.utils import np_utils\n",
    "\n",
    "import pandas as pd\n",
    "import numpy as np\n",
    "import pickle\n",
    "import datetime\n",
    "\n",
    "import warnings\n",
    "warnings.filterwarnings('ignore')\n",
    "pd.set_option('display.max_rows', 500)\n",
    "pd.set_option('display.max_columns', 500)"
   ]
  },
  {
   "cell_type": "markdown",
   "metadata": {},
   "source": [
    "# Load Data and Pre-processing"
   ]
  },
  {
   "cell_type": "code",
   "execution_count": 4,
   "metadata": {},
   "outputs": [
    {
     "name": "stdout",
     "output_type": "stream",
     "text": [
      "Start: 14:51:25\n",
      "Author Name : KHW\n",
      "Model : ML Stacking\n",
      "Summary : HyperParams tuning with 10 sklearn models + 4 stacking model\n",
      "\n",
      "\n"
     ]
    }
   ],
   "source": [
    "# Print Current Time\n",
    "time = str(datetime.datetime.now()).split()[1].split('.')[0]\n",
    "print(\"Start:\", time)\n",
    "\n",
    "\n",
    "# Print Information\n",
    "name = 'KHW'\n",
    "model = 'ML Stacking'\n",
    "summary = 'HyperParams tuning with 10 sklearn models + 4 stacking model'\n",
    "\n",
    "print('Author Name :', name)\n",
    "print('Model :', model)\n",
    "print('Summary :', summary)\n",
    "print(\"\\n\")\n",
    "\n",
    "\n",
    "# Setting\n",
    "path = \"./data\"\n",
    "pos_dir = path+\"/train/positive/\"\n",
    "neg_dir = path+\"/train/negative/\"\n",
    "test_dir = path+'/test/'\n",
    "\n",
    "features = ['firstorder', 'shape']\n",
    "target_voxel = (0.65, 0.65, 3)"
   ]
  },
  {
   "cell_type": "code",
   "execution_count": 5,
   "metadata": {},
   "outputs": [
    {
     "name": "stdout",
     "output_type": "stream",
     "text": [
      "Processing [1/3] Image of Positive Patient... (14:51:26)\n",
      ">>> Finished : Voxel Size Resampling (14:51:39)\n",
      ">>> Unique Value of BRAIN mask : [0. 1.]\n",
      ">>> Unique Value of INFARCT mask : [0. 1.]\n",
      ">>> Finished : White-stripe Normalization (14:51:40)\n"
     ]
    },
    {
     "name": "stderr",
     "output_type": "stream",
     "text": [
      "GLCM is symmetrical, therefore Sum Average = 2 * Joint Average, only 1 needs to be calculated\n",
      "GLCM is symmetrical, therefore Sum Average = 2 * Joint Average, only 1 needs to be calculated\n"
     ]
    },
    {
     "name": "stdout",
     "output_type": "stream",
     "text": [
      "Processing [2/3] Image of Positive Patient... (14:51:42)\n",
      ">>> Finished : Voxel Size Resampling (14:51:55)\n",
      ">>> Unique Value of BRAIN mask : [0. 1.]\n",
      ">>> Unique Value of INFARCT mask : [0. 1.]\n",
      ">>> Finished : White-stripe Normalization (14:51:56)\n"
     ]
    },
    {
     "name": "stderr",
     "output_type": "stream",
     "text": [
      "GLCM is symmetrical, therefore Sum Average = 2 * Joint Average, only 1 needs to be calculated\n",
      "GLCM is symmetrical, therefore Sum Average = 2 * Joint Average, only 1 needs to be calculated\n"
     ]
    },
    {
     "name": "stdout",
     "output_type": "stream",
     "text": [
      "Processing [3/3] Image of Positive Patient... (14:51:58)\n",
      ">>> Finished : Voxel Size Resampling (14:52:11)\n",
      ">>> Unique Value of BRAIN mask : [0. 1.]\n",
      ">>> Unique Value of INFARCT mask : [0. 1.]\n",
      ">>> Finished : White-stripe Normalization (14:52:12)\n"
     ]
    },
    {
     "name": "stderr",
     "output_type": "stream",
     "text": [
      "GLCM is symmetrical, therefore Sum Average = 2 * Joint Average, only 1 needs to be calculated\n",
      "GLCM is symmetrical, therefore Sum Average = 2 * Joint Average, only 1 needs to be calculated\n"
     ]
    },
    {
     "name": "stdout",
     "output_type": "stream",
     "text": [
      "Processing [1/3] Image of Negative Patient... (14:52:14)\n",
      ">>> Finished : Voxel Size Resampling (14:52:27)\n",
      ">>> Unique Value of BRAIN mask : [0. 1.]\n",
      ">>> Unique Value of INFARCT mask : [0. 1.]\n",
      ">>> Finished : White-stripe Normalization (14:52:28)\n"
     ]
    },
    {
     "name": "stderr",
     "output_type": "stream",
     "text": [
      "GLCM is symmetrical, therefore Sum Average = 2 * Joint Average, only 1 needs to be calculated\n",
      "GLCM is symmetrical, therefore Sum Average = 2 * Joint Average, only 1 needs to be calculated\n"
     ]
    },
    {
     "name": "stdout",
     "output_type": "stream",
     "text": [
      "Processing [2/3] Image of Negative Patient... (14:52:30)\n",
      ">>> Finished : Voxel Size Resampling (14:52:44)\n",
      ">>> Unique Value of BRAIN mask : [0. 1.]\n",
      ">>> Unique Value of INFARCT mask : [0. 1.]\n",
      ">>> Finished : White-stripe Normalization (14:52:45)\n"
     ]
    },
    {
     "name": "stderr",
     "output_type": "stream",
     "text": [
      "GLCM is symmetrical, therefore Sum Average = 2 * Joint Average, only 1 needs to be calculated\n",
      "GLCM is symmetrical, therefore Sum Average = 2 * Joint Average, only 1 needs to be calculated\n"
     ]
    },
    {
     "name": "stdout",
     "output_type": "stream",
     "text": [
      "Processing [3/3] Image of Negative Patient... (14:52:48)\n",
      ">>> Finished : Voxel Size Resampling (14:53:01)\n",
      ">>> Unique Value of BRAIN mask : [0. 1.]\n",
      ">>> Unique Value of INFARCT mask : [0. 1.]\n",
      ">>> Finished : White-stripe Normalization (14:53:02)\n"
     ]
    },
    {
     "name": "stderr",
     "output_type": "stream",
     "text": [
      "GLCM is symmetrical, therefore Sum Average = 2 * Joint Average, only 1 needs to be calculated\n",
      "GLCM is symmetrical, therefore Sum Average = 2 * Joint Average, only 1 needs to be calculated\n"
     ]
    },
    {
     "name": "stdout",
     "output_type": "stream",
     "text": [
      "Created X of shape (6, 64) and y of shape (6,) (14:53:04)\n"
     ]
    }
   ],
   "source": [
    "do_n4 = False\n",
    "do_ws = True\n",
    "do_resample = True\n",
    "do_shuffle = True\n",
    "\n",
    "X_train, y_train = train_data_loader(pos_dir, neg_dir, do_n4, do_ws, do_resample, do_shuffle, features, target_voxel)"
   ]
  },
  {
   "cell_type": "code",
   "execution_count": 6,
   "metadata": {},
   "outputs": [
    {
     "name": "stdout",
     "output_type": "stream",
     "text": [
      "Processing [1/2] Image of Test Patient... (14:53:04)\n",
      ">>> Finished : Voxel Size Resampling (14:53:18)\n",
      ">>> Unique Value of BRAIN mask : [0. 1.]\n",
      ">>>Unique Value of INFARCT mask : [0. 1.]\n",
      ">>> Finished : White-stripe Normalization (14:53:19)\n"
     ]
    },
    {
     "name": "stderr",
     "output_type": "stream",
     "text": [
      "GLCM is symmetrical, therefore Sum Average = 2 * Joint Average, only 1 needs to be calculated\n",
      "GLCM is symmetrical, therefore Sum Average = 2 * Joint Average, only 1 needs to be calculated\n"
     ]
    },
    {
     "name": "stdout",
     "output_type": "stream",
     "text": [
      "Processing [2/2] Image of Test Patient... (14:53:21)\n",
      ">>> Finished : Voxel Size Resampling (14:53:34)\n",
      ">>> Unique Value of BRAIN mask : [0. 1.]\n",
      ">>>Unique Value of INFARCT mask : [0. 1.]\n",
      ">>> Finished : White-stripe Normalization (14:53:35)\n"
     ]
    },
    {
     "name": "stderr",
     "output_type": "stream",
     "text": [
      "GLCM is symmetrical, therefore Sum Average = 2 * Joint Average, only 1 needs to be calculated\n",
      "GLCM is symmetrical, therefore Sum Average = 2 * Joint Average, only 1 needs to be calculated\n"
     ]
    }
   ],
   "source": [
    "do_n4 = False\n",
    "do_ws = True\n",
    "do_resample = True\n",
    "\n",
    "X_test, patient_num, error_patient = test_data_loader(test_dir, do_n4, do_ws, do_resample, features, target_voxel)"
   ]
  },
  {
   "cell_type": "markdown",
   "metadata": {},
   "source": [
    "# Base Model"
   ]
  },
  {
   "cell_type": "markdown",
   "metadata": {},
   "source": [
    "### xgboost"
   ]
  },
  {
   "cell_type": "code",
   "execution_count": null,
   "metadata": {},
   "outputs": [],
   "source": [
    "# Fit Model with Training Data\n",
    "model1 = XGBClassifier(n_jobs=4)\n",
    "model1.fit(X_train, y_train)\n",
    "\n",
    "\n",
    "# Save model to file\n",
    "# pickle.dump(model1, open('./data/model/model1.pickle.dat', 'wb'))"
   ]
  },
  {
   "cell_type": "markdown",
   "metadata": {},
   "source": [
    "### svm"
   ]
  },
  {
   "cell_type": "code",
   "execution_count": null,
   "metadata": {},
   "outputs": [],
   "source": [
    "# Fit Model with Training Data\n",
    "model2 = SVC()\n",
    "model2.fit(X_train, y_train)\n",
    "\n",
    "\n",
    "# Save model to file\n",
    "# pickle.dump(model2, open('./data/model/model2.pickle.dat', 'wb'))"
   ]
  },
  {
   "cell_type": "markdown",
   "metadata": {},
   "source": [
    "### logistic regression"
   ]
  },
  {
   "cell_type": "code",
   "execution_count": null,
   "metadata": {},
   "outputs": [],
   "source": [
    "# Fit Model with Training Data\n",
    "model3 = LogisticRegression(n_jobs=4)\n",
    "model3.fit(X_train, y_train)\n",
    "\n",
    "\n",
    "# Save model to file\n",
    "# pickle.dump(model3, open('./data/model/model3.pickle.dat', 'wb'))"
   ]
  },
  {
   "cell_type": "markdown",
   "metadata": {},
   "source": [
    "### random forest"
   ]
  },
  {
   "cell_type": "code",
   "execution_count": null,
   "metadata": {},
   "outputs": [],
   "source": [
    "# Fit Model with Training Data\n",
    "model4 = RandomForestClassifier(n_jobs=4)\n",
    "model4.fit(X_train, y_train)\n",
    "\n",
    "\n",
    "# Save model to file\n",
    "# pickle.dump(mode4l, open('./data/model/model4.pickle.dat', 'wb'))"
   ]
  },
  {
   "cell_type": "markdown",
   "metadata": {},
   "source": [
    "<br><br><br>"
   ]
  },
  {
   "cell_type": "markdown",
   "metadata": {},
   "source": [
    "# Score"
   ]
  },
  {
   "cell_type": "code",
   "execution_count": 7,
   "metadata": {},
   "outputs": [],
   "source": [
    "BETA=0.75"
   ]
  },
  {
   "cell_type": "code",
   "execution_count": 8,
   "metadata": {},
   "outputs": [],
   "source": [
    "def new_scorer(y_true, y_pred, threshold=0.5) :\n",
    "    result = []\n",
    "    global BETA\n",
    "\n",
    "    for pred in list(y_pred) :\n",
    "        if pred >= threshold :\n",
    "            result.append(1)\n",
    "        else :\n",
    "            result.append(0)\n",
    "            \n",
    "    return fbeta_score(y_true, np.array(result), beta=BETA)"
   ]
  },
  {
   "cell_type": "code",
   "execution_count": 9,
   "metadata": {},
   "outputs": [],
   "source": [
    "scorer = make_scorer(fbeta_score, beta=BETA)"
   ]
  },
  {
   "cell_type": "markdown",
   "metadata": {},
   "source": [
    "# Modeling"
   ]
  },
  {
   "cell_type": "markdown",
   "metadata": {},
   "source": [
    "### MLP"
   ]
  },
  {
   "cell_type": "code",
   "execution_count": null,
   "metadata": {},
   "outputs": [],
   "source": []
  },
  {
   "cell_type": "code",
   "execution_count": null,
   "metadata": {},
   "outputs": [],
   "source": []
  },
  {
   "cell_type": "code",
   "execution_count": null,
   "metadata": {},
   "outputs": [],
   "source": []
  },
  {
   "cell_type": "markdown",
   "metadata": {},
   "source": [
    "### CNN"
   ]
  },
  {
   "cell_type": "code",
   "execution_count": null,
   "metadata": {},
   "outputs": [],
   "source": []
  },
  {
   "cell_type": "code",
   "execution_count": null,
   "metadata": {},
   "outputs": [],
   "source": []
  },
  {
   "cell_type": "code",
   "execution_count": null,
   "metadata": {},
   "outputs": [],
   "source": []
  },
  {
   "cell_type": "markdown",
   "metadata": {},
   "source": [
    "# Parameter Tuning & CV"
   ]
  },
  {
   "cell_type": "code",
   "execution_count": null,
   "metadata": {},
   "outputs": [],
   "source": [
    "cv=2"
   ]
  },
  {
   "cell_type": "markdown",
   "metadata": {},
   "source": [
    "### xgboost"
   ]
  },
  {
   "cell_type": "code",
   "execution_count": 10,
   "metadata": {},
   "outputs": [],
   "source": [
    "model1 = XGBClassifier()"
   ]
  },
  {
   "cell_type": "code",
   "execution_count": 11,
   "metadata": {},
   "outputs": [
    {
     "name": "stdout",
     "output_type": "stream",
     "text": [
      "Best Score : 0.0\n",
      "Best Params : {'max_depth': 5}\n"
     ]
    }
   ],
   "source": [
    "m1_params1 = {\n",
    "    'max_depth' : [5,6,7,8],\n",
    "    'min_child_weight' : [0.5, 1, 5, 10, 15, 20],\n",
    "    'gamma' : [1.5, 2, 2.5, 3.0, 5],\n",
    "    'subsample' : [0.5, 0.6, 0.8, 1.0],\n",
    "    'colsample_bytree' : [0.5, 0.6, 0.8, 1.0],\n",
    "    'probability' : [True],\n",
    "    'learning_rate' : [0.01, 0.05, 0.1],\n",
    "    'n_estimators' : [300, 500, 700]\n",
    "\n",
    "}\n",
    "\n",
    "m1_grid_1 = GridSearchCV(model1, param_grid=m1_params1, scoring=scorer, cv=cv, verbose=0, n_jobs=-1)\n",
    "m1_grid_1.fit(X_train, y_train)\n",
    "\n",
    "best_model1 = m1_grid_1.best_estimator_\n",
    "\n",
    "print(\"Best Score : {}\".format(m1_grid_1.best_score_))\n",
    "print(\"Best Params : {}\".format(m1_grid_1.best_params_))"
   ]
  },
  {
   "cell_type": "markdown",
   "metadata": {},
   "source": [
    "### svm"
   ]
  },
  {
   "cell_type": "code",
   "execution_count": 12,
   "metadata": {},
   "outputs": [],
   "source": [
    "model2 = SVC()"
   ]
  },
  {
   "cell_type": "code",
   "execution_count": 13,
   "metadata": {},
   "outputs": [
    {
     "name": "stdout",
     "output_type": "stream",
     "text": [
      "Best Score : 0.6097560975609756\n",
      "Best Params : {'C': 0.001, 'degree': 2, 'gamma': 0.001, 'probability': True}\n"
     ]
    }
   ],
   "source": [
    "m2_params1 = {\n",
    "    'C': [0.001, 0.01, 0.1, 1, 10, 100], \n",
    "    'gamma' : [0.001, 0.01, 0.1, 1, 2, 5, 10, 20],\n",
    "    'degree' : [2,3,4],\n",
    "    'probability' : [True]\n",
    "}\n",
    "\n",
    "m2_grid_1 = GridSearchCV(model2, param_grid=m2_params1, scoring=scorer, cv=cv, verbose=0, n_jobs=-1)\n",
    "m2_grid_1.fit(X_train, y_train)\n",
    "\n",
    "best_model2 = m2_grid_1.best_estimator_\n",
    "\n",
    "print(\"Best Score : {}\".format(m2_grid_1.best_score_))\n",
    "print(\"Best Params : {}\".format(m2_grid_1.best_params_))"
   ]
  },
  {
   "cell_type": "markdown",
   "metadata": {},
   "source": [
    "### logistic regression"
   ]
  },
  {
   "cell_type": "code",
   "execution_count": 14,
   "metadata": {},
   "outputs": [],
   "source": [
    "model3 = LogisticRegression()"
   ]
  },
  {
   "cell_type": "code",
   "execution_count": 15,
   "metadata": {},
   "outputs": [
    {
     "name": "stdout",
     "output_type": "stream",
     "text": [
      "Best Score : 0.6097560975609756\n",
      "Best Params : {'C': 0.001, 'max_iter': 100}\n"
     ]
    }
   ],
   "source": [
    "m3_params1 = {\n",
    "    'C': [0.001, 0.01, 0.1, 1, 10, 100],\n",
    "    'max_iter' : [n for n in range(100,1101, 200)],\n",
    "}\n",
    "\n",
    "m3_grid_1 = GridSearchCV(model3, param_grid=m3_params1, scoring=scorer, cv=cv, verbose=0, n_jobs=-1)\n",
    "m3_grid_1.fit(X_train, y_train)\n",
    "\n",
    "best_model3 = m3_grid_1.best_estimator_\n",
    "\n",
    "print(\"Best Score : {}\".format(m3_grid_1.best_score_))\n",
    "print(\"Best Params : {}\".format(m3_grid_1.best_params_))"
   ]
  },
  {
   "cell_type": "markdown",
   "metadata": {},
   "source": [
    "### random forest"
   ]
  },
  {
   "cell_type": "code",
   "execution_count": 16,
   "metadata": {},
   "outputs": [],
   "source": [
    "model4 = RandomForestClassifier()"
   ]
  },
  {
   "cell_type": "code",
   "execution_count": 17,
   "metadata": {},
   "outputs": [
    {
     "name": "stdout",
     "output_type": "stream",
     "text": [
      "Best Score : 0.7398373983739838\n",
      "Best Params : {'max_depth': 15}\n"
     ]
    }
   ],
   "source": [
    "m4_params1 = {\n",
    "    'max_depth' : [6, 8, 10, 15, 20, 30, 40, 50],\n",
    "    'min_samples_leaf': [1, 2, 3, 4, 5,10, 20, 50],\n",
    "    'n_estimators' : [100, 300, 500]\n",
    "}\n",
    "\n",
    "m4_grid_1 = GridSearchCV(model4, param_grid=m4_params1, scoring=scorer, cv=cv, verbose=0, n_jobs=-1)\n",
    "m4_grid_1.fit(X_train, y_train)\n",
    "\n",
    "best_model4 = m4_grid_1.best_estimator_\n",
    "\n",
    "print(\"Best Score : {}\".format(m4_grid_1.best_score_))\n",
    "print(\"Best Params : {}\".format(m4_grid_1.best_params_))"
   ]
  },
  {
   "cell_type": "markdown",
   "metadata": {},
   "source": [
    "### lasso regression"
   ]
  },
  {
   "cell_type": "code",
   "execution_count": 18,
   "metadata": {},
   "outputs": [],
   "source": [
    "model5 = LogisticRegression()"
   ]
  },
  {
   "cell_type": "code",
   "execution_count": 19,
   "metadata": {},
   "outputs": [
    {
     "name": "stdout",
     "output_type": "stream",
     "text": [
      "Best Score : 0.6097560975609756\n",
      "Best Params : {'C': 0.001, 'max_iter': 100, 'penalty': 'l1'}\n"
     ]
    }
   ],
   "source": [
    "m5_params1 = {\n",
    "    'C': [0.001, 0.01, 0.1, 1, 10, 100],\n",
    "    'max_iter' : [n for n in range(100,1101, 200)],\n",
    "    'penalty' : [\"l1\"]\n",
    "}\n",
    "\n",
    "m5_grid_1 = GridSearchCV(model5, param_grid=m5_params1, scoring=scorer, cv=cv, verbose=0, n_jobs=-1)\n",
    "m5_grid_1.fit(X_train, y_train)\n",
    "\n",
    "best_model5 = m5_grid_1.best_estimator_\n",
    "\n",
    "print(\"Best Score : {}\".format(m5_grid_1.best_score_))\n",
    "print(\"Best Params : {}\".format(m5_grid_1.best_params_))"
   ]
  },
  {
   "cell_type": "markdown",
   "metadata": {},
   "source": [
    "### ridge regression"
   ]
  },
  {
   "cell_type": "code",
   "execution_count": 20,
   "metadata": {},
   "outputs": [],
   "source": [
    "model6 = RidgeClassifier()"
   ]
  },
  {
   "cell_type": "code",
   "execution_count": 21,
   "metadata": {},
   "outputs": [
    {
     "name": "stdout",
     "output_type": "stream",
     "text": [
      "Best Score : 0.4557772850455777\n",
      "Best Params : {'alpha': 0.1, 'max_iter': None}\n"
     ]
    }
   ],
   "source": [
    "m6_params1 = {\n",
    "    'alpha': [0.1, 1, 2, 5, 10, 20, 50, 100],\n",
    "    'max_iter' : [None]+[n for n in range(100,1101, 200)]\n",
    "}\n",
    "\n",
    "m6_grid_1 = GridSearchCV(model6, param_grid=m6_params1, scoring=scorer, cv=cv, verbose=0, n_jobs=-1)\n",
    "m6_grid_1.fit(X_train, y_train)\n",
    "\n",
    "best_model6 = m6_grid_1.best_estimator_\n",
    "\n",
    "print(\"Best Score : {}\".format(m6_grid_1.best_score_))\n",
    "print(\"Best Params : {}\".format(m6_grid_1.best_params_))"
   ]
  },
  {
   "cell_type": "markdown",
   "metadata": {},
   "source": [
    "### elasticNet"
   ]
  },
  {
   "cell_type": "code",
   "execution_count": 22,
   "metadata": {},
   "outputs": [],
   "source": [
    "model7 = SGDClassifier()"
   ]
  },
  {
   "cell_type": "code",
   "execution_count": 23,
   "metadata": {},
   "outputs": [
    {
     "name": "stdout",
     "output_type": "stream",
     "text": [
      "Best Score : 0.6097560975609756\n",
      "Best Params : {'alpha': 5, 'l1_ratio': 0.6, 'loss': 'log', 'max_iter': 1000, 'penalty': 'elasticnet'}\n"
     ]
    }
   ],
   "source": [
    "m7_params1 = {\n",
    "    'alpha': [0.001, 0.01, 0.1, 1, 2, 5, 10, 20, 50, 100],\n",
    "    'l1_ratio':[0.1, 0.15, 0.2, 0.3, 0.4, 0.5, 0.6, 0.7], \n",
    "    'max_iter' : [None]+[n for n in range(800, 1601, 200)],\n",
    "    'penalty' : [\"elasticnet\"],\n",
    "    'loss' : [\"log\"]\n",
    "}\n",
    "\n",
    "m7_grid_1 = GridSearchCV(model7, param_grid=m7_params1, scoring=scorer, cv=cv, verbose=0, n_jobs=-1)\n",
    "m7_grid_1.fit(X_train, y_train)\n",
    "\n",
    "best_model7 = m7_grid_1.best_estimator_\n",
    "\n",
    "print(\"Best Score : {}\".format(m7_grid_1.best_score_))\n",
    "print(\"Best Params : {}\".format(m7_grid_1.best_params_))"
   ]
  },
  {
   "cell_type": "markdown",
   "metadata": {},
   "source": [
    "### LARS"
   ]
  },
  {
   "cell_type": "code",
   "execution_count": 24,
   "metadata": {},
   "outputs": [],
   "source": [
    "model8 = Lars()"
   ]
  },
  {
   "cell_type": "code",
   "execution_count": 25,
   "metadata": {},
   "outputs": [
    {
     "name": "stdout",
     "output_type": "stream",
     "text": [
      "Best Score : 0.5869453044375644\n",
      "Threshold : 0.6\n",
      "Best Params : {'n_nonzero_coefs': 30}\n"
     ]
    }
   ],
   "source": [
    "m8_params1 = {\n",
    "    'n_nonzero_coefs': [n for n in range(30, 150, 20)]\n",
    "}\n",
    "\n",
    "max_score=0\n",
    "m8_best_t = 0\n",
    "best_model8 = \"\"\n",
    "m8_best_grid_1 = \"\"\n",
    "\n",
    "for t in [0, 0.05, 0.1, 0.2, 0.25, 0.3, 0.45, 0.4, 0.45, 0.5, 0.6] :\n",
    "    scorer2 = make_scorer(new_scorer, threshold=t)\n",
    "    m8_grid_1 = GridSearchCV(model8, param_grid=m8_params1, scoring=scorer2, cv=cv, verbose=0, n_jobs=-1)\n",
    "    m8_grid_1.fit(X_train, y_train)\n",
    "\n",
    "    if max_score < m8_grid_1.best_score_ :\n",
    "        best_model8 = m8_grid_1.best_estimator_\n",
    "        m8_best_t = t\n",
    "        m8_best_grid_1 = m8_grid_1\n",
    "        \n",
    "m8_grid_1 = m8_best_grid_1\n",
    "best_model8 = m8_grid_1.best_estimator_\n",
    "\n",
    "print(\"Best Score : {}\".format(m8_grid_1.best_score_))     \n",
    "print(\"Threshold :\", m8_best_t)\n",
    "print(\"Best Params : {}\".format(m8_grid_1.best_params_))"
   ]
  },
  {
   "cell_type": "markdown",
   "metadata": {},
   "source": [
    "### LARS lasso"
   ]
  },
  {
   "cell_type": "code",
   "execution_count": 26,
   "metadata": {},
   "outputs": [],
   "source": [
    "model9 = LassoLars()"
   ]
  },
  {
   "cell_type": "code",
   "execution_count": 27,
   "metadata": {},
   "outputs": [
    {
     "name": "stdout",
     "output_type": "stream",
     "text": [
      "Best Score : 0.5869453044375644\n",
      "Threshold : 0.6\n",
      "Best Params : {'alpha': 0.1, 'max_iter': 800}\n"
     ]
    }
   ],
   "source": [
    "m9_params1 = {\n",
    "    'alpha': [0.1, 1, 2, 5, 10, 20, 50, 100],\n",
    "    'max_iter' : [n for n in range(800, 1601, 200)]\n",
    "}\n",
    "\n",
    "max_score=0\n",
    "m9_best_t = 0\n",
    "best_model9 = \"\"\n",
    "m9_best_grid_1 = \"\"\n",
    "for t in [0, 0.05, 0.1, 0.2, 0.25, 0.3, 0.45, 0.4, 0.45, 0.5, 0.6] :\n",
    "    scorer2 = make_scorer(new_scorer, threshold=t)\n",
    "    m9_grid_1 = GridSearchCV(model9, param_grid=m9_params1, scoring=scorer2, cv=cv, verbose=0, n_jobs=-1)\n",
    "    m9_grid_1.fit(X_train, y_train)\n",
    "\n",
    "    if max_score < m9_grid_1.best_score_ :\n",
    "        best_model9 = m9_grid_1.best_estimator_\n",
    "        m9_best_t = t\n",
    "        m9_best_grid_1 = m9_grid_1\n",
    "\n",
    "m9_grid_1 = m9_best_grid_1\n",
    "best_model9 = m9_grid_1.best_estimator_\n",
    "\n",
    "print(\"Best Score : {}\".format(m9_grid_1.best_score_))     \n",
    "print(\"Threshold :\", m9_best_t)\n",
    "print(\"Best Params : {}\".format(m9_grid_1.best_params_))"
   ]
  },
  {
   "cell_type": "markdown",
   "metadata": {},
   "source": [
    "### ExtraTree"
   ]
  },
  {
   "cell_type": "code",
   "execution_count": 28,
   "metadata": {},
   "outputs": [],
   "source": [
    "model10 = ExtraTreesClassifier()"
   ]
  },
  {
   "cell_type": "code",
   "execution_count": 29,
   "metadata": {},
   "outputs": [
    {
     "name": "stdout",
     "output_type": "stream",
     "text": [
      "Best Score : 0.6097560975609756\n",
      "Best Params : {'max_depth': None, 'n_estimators': 10}\n"
     ]
    }
   ],
   "source": [
    "m10_params1 = {\n",
    "    'max_depth' : [None, 3, 5, 7, 9],\n",
    "    'n_estimators' : [10, 50, 100, 300, 500]\n",
    "}\n",
    "\n",
    "m10_grid_1 = GridSearchCV(model10, param_grid=m10_params1, scoring=scorer, cv=cv, verbose=0, n_jobs=-1)\n",
    "m10_grid_1.fit(X_train, y_train)\n",
    "\n",
    "best_model10 = m10_grid_1.best_estimator_\n",
    "\n",
    "print(\"Best Score : {}\".format(m10_grid_1.best_score_))\n",
    "print(\"Best Params : {}\".format(m10_grid_1.best_params_))"
   ]
  },
  {
   "cell_type": "markdown",
   "metadata": {},
   "source": [
    "### AdaBoost"
   ]
  },
  {
   "cell_type": "code",
   "execution_count": 33,
   "metadata": {},
   "outputs": [],
   "source": [
    "model11 = AdaBoostClassifier()"
   ]
  },
  {
   "cell_type": "code",
   "execution_count": 36,
   "metadata": {},
   "outputs": [
    {
     "name": "stdout",
     "output_type": "stream",
     "text": [
      "Best Score : 0.5858585858585857\n",
      "Best Params : {'algorithm': 'SAMME.R', 'learning_rate': 0.05, 'n_estimators': 300}\n"
     ]
    }
   ],
   "source": [
    "m11_params1 = {\n",
    "    'n_estimators' : [100, 300, 500],\n",
    "    'learning_rate' : [0.01, 0.05, 0.1],\n",
    "    'algorithm' :['SAMME.R']\n",
    "}\n",
    "\n",
    "m11_grid_1 = GridSearchCV(model11, param_grid=m11_params1, scoring=scorer, cv=cv, verbose=0, n_jobs=-1)\n",
    "m11_grid_1.fit(X_train, y_train)\n",
    "\n",
    "best_model11 = m11_grid_1.best_estimator_\n",
    "\n",
    "print(\"Best Score : {}\".format(m11_grid_1.best_score_))\n",
    "print(\"Best Params : {}\".format(m11_grid_1.best_params_))"
   ]
  },
  {
   "cell_type": "markdown",
   "metadata": {},
   "source": [
    "### lightgbm"
   ]
  },
  {
   "cell_type": "code",
   "execution_count": 37,
   "metadata": {},
   "outputs": [],
   "source": [
    "model12 = LGBMClassifier()"
   ]
  },
  {
   "cell_type": "code",
   "execution_count": 38,
   "metadata": {},
   "outputs": [
    {
     "name": "stdout",
     "output_type": "stream",
     "text": [
      "Best Score : 0.0\n",
      "Best Params : {'colsample_bytree': 0.6, 'learning_rate': 0.05, 'max_depth': -1, 'min_child_weight': 0.5, 'n_estimators': 100, 'probability': True, 'reg_alpha': 0.0, 'reg_lambda': 0.0, 'subsample': 0.6}\n"
     ]
    }
   ],
   "source": [
    "m12_params1 = {\n",
    "    'max_depth' : [-1,5,7,9],\n",
    "    'min_child_weight' : [0.5, 1, 5, 10],\n",
    "    'colsample_bytree' : [0.6, 0.8, 1.0],\n",
    "    'subsample' : [0.6, 0.8, 1.0],\n",
    "    'probability' : [True],\n",
    "    'learning_rate' : [0.05, 0.1],\n",
    "    'n_estimators' : [100, 300, 500],\n",
    "    'reg_alpha' : [0.0, 1.0, 5.0, 10.0], \n",
    "    'reg_lambda' : [0.0, 1.0, 5.0, 10.0]\n",
    "}\n",
    "\n",
    "m12_grid_1 = GridSearchCV(model12, param_grid=m12_params1, scoring=scorer, cv=cv, verbose=0, n_jobs=-1)\n",
    "m12_grid_1.fit(X_train, y_train)\n",
    "\n",
    "best_model12 = m12_grid_1.best_estimator_\n",
    "\n",
    "print(\"Best Score : {}\".format(m12_grid_1.best_score_))\n",
    "print(\"Best Params : {}\".format(m12_grid_1.best_params_))"
   ]
  },
  {
   "cell_type": "markdown",
   "metadata": {},
   "source": [
    "# Model Stacking"
   ]
  },
  {
   "cell_type": "code",
   "execution_count": 41,
   "metadata": {},
   "outputs": [],
   "source": [
    "def stacking(models, data, include, predict_binary=[None]) : \n",
    "    result = []\n",
    "    \n",
    "    for idx, model in enumerate(models) :\n",
    "        if idx+1 not in include :\n",
    "            continue\n",
    "                \n",
    "        if idx+1 in predict_binary :\n",
    "            result.append(model.predict(data))\n",
    "        else :\n",
    "            result.append(model.predict_proba(data)[:,1])\n",
    "            print(\"model\", idx+1, \"is stacked\")\n",
    " \n",
    "    print(\"\\n\")\n",
    "    return np.array(result).T"
   ]
  },
  {
   "cell_type": "code",
   "execution_count": 42,
   "metadata": {
    "scrolled": true
   },
   "outputs": [
    {
     "name": "stdout",
     "output_type": "stream",
     "text": [
      "model 1 is stacked\n",
      "model 3 is stacked\n",
      "model 4 is stacked\n",
      "model 10 is stacked\n",
      "model 11 is stacked\n",
      "model 12 is stacked\n",
      "\n",
      "\n",
      "Best Score : 0.0\n",
      "Best Params : {'max_depth': 3, 'n_estimators': 50}\n",
      "Best Score : 1.0\n",
      "Best Params : {'C': 10, 'max_iter': 100}\n",
      "Epoch 1/30\n",
      "6/6 [==============================] - 0s 60ms/step - loss: 0.6704 - acc: 0.5000\n",
      "Epoch 2/30\n",
      "6/6 [==============================] - 0s 500us/step - loss: 0.6627 - acc: 0.5000\n",
      "Epoch 3/30\n",
      "6/6 [==============================] - 0s 201us/step - loss: 0.6550 - acc: 0.5000\n",
      "Epoch 4/30\n",
      "6/6 [==============================] - 0s 446us/step - loss: 0.6475 - acc: 0.5000\n",
      "Epoch 5/30\n",
      "6/6 [==============================] - 0s 208us/step - loss: 0.6400 - acc: 0.5000\n",
      "Epoch 6/30\n",
      "6/6 [==============================] - 0s 280us/step - loss: 0.6328 - acc: 0.8333\n",
      "Epoch 7/30\n",
      "6/6 [==============================] - 0s 172us/step - loss: 0.6256 - acc: 1.0000\n",
      "Epoch 8/30\n",
      "6/6 [==============================] - 0s 155us/step - loss: 0.6185 - acc: 1.0000\n",
      "Epoch 9/30\n",
      "6/6 [==============================] - 0s 162us/step - loss: 0.6116 - acc: 1.0000\n",
      "Epoch 10/30\n",
      "6/6 [==============================] - 0s 194us/step - loss: 0.6049 - acc: 1.0000\n",
      "Epoch 11/30\n",
      "6/6 [==============================] - 0s 194us/step - loss: 0.5984 - acc: 1.0000\n",
      "Epoch 12/30\n",
      "6/6 [==============================] - 0s 178us/step - loss: 0.5920 - acc: 1.0000\n",
      "Epoch 13/30\n",
      "6/6 [==============================] - 0s 181us/step - loss: 0.5857 - acc: 1.0000\n",
      "Epoch 14/30\n",
      "6/6 [==============================] - 0s 174us/step - loss: 0.5797 - acc: 1.0000\n",
      "Epoch 15/30\n",
      "6/6 [==============================] - 0s 204us/step - loss: 0.5738 - acc: 1.0000\n",
      "Epoch 16/30\n",
      "6/6 [==============================] - 0s 196us/step - loss: 0.5680 - acc: 1.0000\n",
      "Epoch 17/30\n",
      "6/6 [==============================] - 0s 171us/step - loss: 0.5623 - acc: 1.0000\n",
      "Epoch 18/30\n",
      "6/6 [==============================] - 0s 209us/step - loss: 0.5566 - acc: 1.0000\n",
      "Epoch 19/30\n",
      "6/6 [==============================] - 0s 182us/step - loss: 0.5510 - acc: 1.0000\n",
      "Epoch 20/30\n",
      "6/6 [==============================] - 0s 198us/step - loss: 0.5455 - acc: 1.0000\n",
      "Epoch 21/30\n",
      "6/6 [==============================] - 0s 177us/step - loss: 0.5400 - acc: 1.0000\n",
      "Epoch 22/30\n",
      "6/6 [==============================] - 0s 194us/step - loss: 0.5347 - acc: 1.0000\n",
      "Epoch 23/30\n",
      "6/6 [==============================] - 0s 185us/step - loss: 0.5294 - acc: 1.0000\n",
      "Epoch 24/30\n",
      "6/6 [==============================] - 0s 182us/step - loss: 0.5242 - acc: 1.0000\n",
      "Epoch 25/30\n",
      "6/6 [==============================] - 0s 193us/step - loss: 0.5189 - acc: 1.0000\n",
      "Epoch 26/30\n",
      "6/6 [==============================] - 0s 197us/step - loss: 0.5138 - acc: 1.0000\n",
      "Epoch 27/30\n",
      "6/6 [==============================] - 0s 201us/step - loss: 0.5088 - acc: 1.0000\n",
      "Epoch 28/30\n",
      "6/6 [==============================] - 0s 206us/step - loss: 0.5038 - acc: 1.0000\n",
      "Epoch 29/30\n",
      "6/6 [==============================] - 0s 190us/step - loss: 0.4988 - acc: 1.0000\n",
      "Epoch 30/30\n",
      "6/6 [==============================] - 0s 190us/step - loss: 0.4940 - acc: 1.0000\n",
      "Epoch 1/30\n",
      "6/6 [==============================] - 0s 23ms/step - loss: 0.7476 - acc: 0.5000\n",
      "Epoch 2/30\n",
      "6/6 [==============================] - 0s 488us/step - loss: 0.7460 - acc: 0.5000\n",
      "Epoch 3/30\n",
      "6/6 [==============================] - 0s 260us/step - loss: 0.7444 - acc: 0.5000\n",
      "Epoch 4/30\n",
      "6/6 [==============================] - 0s 140us/step - loss: 0.7428 - acc: 0.5000\n",
      "Epoch 5/30\n",
      "6/6 [==============================] - 0s 127us/step - loss: 0.7412 - acc: 0.5000\n",
      "Epoch 6/30\n",
      "6/6 [==============================] - 0s 141us/step - loss: 0.7396 - acc: 0.5000\n",
      "Epoch 7/30\n",
      "6/6 [==============================] - 0s 163us/step - loss: 0.7380 - acc: 0.5000\n",
      "Epoch 8/30\n",
      "6/6 [==============================] - 0s 201us/step - loss: 0.7364 - acc: 0.5000\n",
      "Epoch 9/30\n",
      "6/6 [==============================] - 0s 163us/step - loss: 0.7348 - acc: 0.5000\n",
      "Epoch 10/30\n",
      "6/6 [==============================] - 0s 144us/step - loss: 0.7332 - acc: 0.5000\n",
      "Epoch 11/30\n",
      "6/6 [==============================] - 0s 162us/step - loss: 0.7316 - acc: 0.5000\n",
      "Epoch 12/30\n",
      "6/6 [==============================] - 0s 122us/step - loss: 0.7300 - acc: 0.5000\n",
      "Epoch 13/30\n",
      "6/6 [==============================] - 0s 164us/step - loss: 0.7285 - acc: 0.5000\n",
      "Epoch 14/30\n",
      "6/6 [==============================] - 0s 156us/step - loss: 0.7269 - acc: 0.5000\n",
      "Epoch 15/30\n",
      "6/6 [==============================] - 0s 141us/step - loss: 0.7253 - acc: 0.5000\n",
      "Epoch 16/30\n",
      "6/6 [==============================] - 0s 158us/step - loss: 0.7237 - acc: 0.5000\n",
      "Epoch 17/30\n",
      "6/6 [==============================] - 0s 162us/step - loss: 0.7222 - acc: 0.5000\n",
      "Epoch 18/30\n",
      "6/6 [==============================] - 0s 161us/step - loss: 0.7206 - acc: 0.5000\n",
      "Epoch 19/30\n",
      "6/6 [==============================] - 0s 121us/step - loss: 0.7190 - acc: 0.5000\n",
      "Epoch 20/30\n",
      "6/6 [==============================] - 0s 156us/step - loss: 0.7175 - acc: 0.5000\n",
      "Epoch 21/30\n",
      "6/6 [==============================] - 0s 158us/step - loss: 0.7159 - acc: 0.5000\n",
      "Epoch 22/30\n",
      "6/6 [==============================] - 0s 137us/step - loss: 0.7144 - acc: 0.5000\n",
      "Epoch 23/30\n",
      "6/6 [==============================] - 0s 145us/step - loss: 0.7128 - acc: 0.5000\n",
      "Epoch 24/30\n",
      "6/6 [==============================] - 0s 145us/step - loss: 0.7113 - acc: 0.5000\n",
      "Epoch 25/30\n",
      "6/6 [==============================] - 0s 149us/step - loss: 0.7097 - acc: 0.5000\n",
      "Epoch 26/30\n",
      "6/6 [==============================] - 0s 174us/step - loss: 0.7082 - acc: 0.5000\n",
      "Epoch 27/30\n",
      "6/6 [==============================] - 0s 156us/step - loss: 0.7066 - acc: 0.5000\n",
      "Epoch 28/30\n",
      "6/6 [==============================] - 0s 174us/step - loss: 0.7051 - acc: 0.5000\n",
      "Epoch 29/30\n",
      "6/6 [==============================] - 0s 2ms/step - loss: 0.7036 - acc: 0.5000\n",
      "Epoch 30/30\n",
      "6/6 [==============================] - 0s 156us/step - loss: 0.7020 - acc: 0.5000\n"
     ]
    }
   ],
   "source": [
    "# layer1\n",
    "models = [best_model1, best_model2, best_model3, best_model4, best_model5, best_model6, \n",
    "          best_model7, best_model8, best_model9, best_model10, best_model11, best_model12]\n",
    "S_train = stacking(models, X_train, [1,3,4,10,11,12])\n",
    "\n",
    "meta_xgb = stacking_xgb(S_train, y_train, cv=cv)\n",
    "meta_logistic = stacking_logistic(S_train, y_train, cv=cv)\n",
    "meta_NN = stacking_NN(S_train, y_train, cv=cv)\n",
    "meta_weight = stacking_weight(S_train, y_train, cv=cv)\n",
    "\n",
    "y_pred_lst = []\n",
    "y_pred_binary_lst =[]\n",
    "threshold = \"auto\"\n",
    "\n",
    "for meta in [meta_xgb, meta_logistic, meta_NN, meta_weight] :\n",
    "    pred = meta.predict_proba(S_train)[:, 1]\n",
    "    y_pred_lst.append(pred)\n",
    "    y_pred_binary_lst.append(pred_to_binary(pred, threshold = threshold))"
   ]
  },
  {
   "cell_type": "code",
   "execution_count": 43,
   "metadata": {},
   "outputs": [
    {
     "name": "stdout",
     "output_type": "stream",
     "text": [
      "model 1 is stacked\n",
      "model 2 is stacked\n",
      "model 3 is stacked\n",
      "model 4 is stacked\n",
      "\n",
      "\n",
      "Epoch 1/30\n",
      "6/6 [==============================] - 0s 38ms/step - loss: 0.7529 - acc: 0.5000\n",
      "Epoch 2/30\n",
      "6/6 [==============================] - 0s 418us/step - loss: 0.7451 - acc: 0.5000\n",
      "Epoch 3/30\n",
      "6/6 [==============================] - 0s 186us/step - loss: 0.7375 - acc: 0.5000\n",
      "Epoch 4/30\n",
      "6/6 [==============================] - 0s 173us/step - loss: 0.7300 - acc: 0.5000\n",
      "Epoch 5/30\n",
      "6/6 [==============================] - 0s 176us/step - loss: 0.7226 - acc: 0.5000\n",
      "Epoch 6/30\n",
      "6/6 [==============================] - 0s 183us/step - loss: 0.7155 - acc: 0.5000\n",
      "Epoch 7/30\n",
      "6/6 [==============================] - 0s 160us/step - loss: 0.7084 - acc: 0.5000\n",
      "Epoch 8/30\n",
      "6/6 [==============================] - 0s 205us/step - loss: 0.7016 - acc: 0.5000\n",
      "Epoch 9/30\n",
      "6/6 [==============================] - 0s 184us/step - loss: 0.6949 - acc: 0.5000\n",
      "Epoch 10/30\n",
      "6/6 [==============================] - 0s 203us/step - loss: 0.6884 - acc: 0.5000\n",
      "Epoch 11/30\n",
      "6/6 [==============================] - 0s 234us/step - loss: 0.6820 - acc: 0.5000\n",
      "Epoch 12/30\n",
      "6/6 [==============================] - 0s 196us/step - loss: 0.6758 - acc: 0.5000\n",
      "Epoch 13/30\n",
      "6/6 [==============================] - 0s 241us/step - loss: 0.6698 - acc: 0.5000\n",
      "Epoch 14/30\n",
      "6/6 [==============================] - 0s 231us/step - loss: 0.6639 - acc: 0.5000\n",
      "Epoch 15/30\n",
      "6/6 [==============================] - 0s 167us/step - loss: 0.6582 - acc: 0.5000\n",
      "Epoch 16/30\n",
      "6/6 [==============================] - 0s 202us/step - loss: 0.6526 - acc: 0.5000\n",
      "Epoch 17/30\n",
      "6/6 [==============================] - 0s 187us/step - loss: 0.6472 - acc: 0.5000\n",
      "Epoch 18/30\n",
      "6/6 [==============================] - 0s 186us/step - loss: 0.6419 - acc: 0.5000\n",
      "Epoch 19/30\n",
      "6/6 [==============================] - 0s 181us/step - loss: 0.6367 - acc: 0.5000\n",
      "Epoch 20/30\n",
      "6/6 [==============================] - 0s 176us/step - loss: 0.6317 - acc: 0.5000\n",
      "Epoch 21/30\n",
      "6/6 [==============================] - 0s 190us/step - loss: 0.6268 - acc: 0.5000\n",
      "Epoch 22/30\n",
      "6/6 [==============================] - 0s 489us/step - loss: 0.6220 - acc: 0.5000\n",
      "Epoch 23/30\n",
      "6/6 [==============================] - 0s 238us/step - loss: 0.6173 - acc: 1.0000\n",
      "Epoch 24/30\n",
      "6/6 [==============================] - 0s 206us/step - loss: 0.6129 - acc: 1.0000\n",
      "Epoch 25/30\n",
      "6/6 [==============================] - 0s 208us/step - loss: 0.6088 - acc: 1.0000\n",
      "Epoch 26/30\n",
      "6/6 [==============================] - 0s 243us/step - loss: 0.6047 - acc: 1.0000\n",
      "Epoch 27/30\n",
      "6/6 [==============================] - 0s 202us/step - loss: 0.6006 - acc: 1.0000\n",
      "Epoch 28/30\n",
      "6/6 [==============================] - 0s 196us/step - loss: 0.5965 - acc: 1.0000\n",
      "Epoch 29/30\n",
      "6/6 [==============================] - 0s 179us/step - loss: 0.5926 - acc: 1.0000\n",
      "Epoch 30/30\n",
      "6/6 [==============================] - 0s 212us/step - loss: 0.5893 - acc: 1.0000\n",
      "Epoch 1/30\n",
      "6/6 [==============================] - 0s 31ms/step - loss: 0.5647 - acc: 1.0000\n",
      "Epoch 2/30\n",
      "6/6 [==============================] - 0s 428us/step - loss: 0.5642 - acc: 1.0000\n",
      "Epoch 3/30\n",
      "6/6 [==============================] - 0s 183us/step - loss: 0.5637 - acc: 1.0000\n",
      "Epoch 4/30\n",
      "6/6 [==============================] - 0s 171us/step - loss: 0.5632 - acc: 1.0000\n",
      "Epoch 5/30\n",
      "6/6 [==============================] - 0s 163us/step - loss: 0.5627 - acc: 1.0000\n",
      "Epoch 6/30\n",
      "6/6 [==============================] - 0s 191us/step - loss: 0.5622 - acc: 1.0000\n",
      "Epoch 7/30\n",
      "6/6 [==============================] - 0s 205us/step - loss: 0.5617 - acc: 1.0000\n",
      "Epoch 8/30\n",
      "6/6 [==============================] - 0s 261us/step - loss: 0.5612 - acc: 1.0000\n",
      "Epoch 9/30\n",
      "6/6 [==============================] - 0s 171us/step - loss: 0.5607 - acc: 1.0000\n",
      "Epoch 10/30\n",
      "6/6 [==============================] - 0s 200us/step - loss: 0.5602 - acc: 1.0000\n",
      "Epoch 11/30\n",
      "6/6 [==============================] - 0s 361us/step - loss: 0.5597 - acc: 1.0000\n",
      "Epoch 12/30\n",
      "6/6 [==============================] - 0s 195us/step - loss: 0.5593 - acc: 1.0000\n",
      "Epoch 13/30\n",
      "6/6 [==============================] - 0s 204us/step - loss: 0.5588 - acc: 1.0000\n",
      "Epoch 14/30\n",
      "6/6 [==============================] - 0s 206us/step - loss: 0.5583 - acc: 1.0000\n",
      "Epoch 15/30\n",
      "6/6 [==============================] - 0s 172us/step - loss: 0.5578 - acc: 1.0000\n",
      "Epoch 16/30\n",
      "6/6 [==============================] - 0s 183us/step - loss: 0.5573 - acc: 1.0000\n",
      "Epoch 17/30\n",
      "6/6 [==============================] - 0s 162us/step - loss: 0.5569 - acc: 1.0000\n",
      "Epoch 18/30\n",
      "6/6 [==============================] - 0s 168us/step - loss: 0.5564 - acc: 1.0000\n",
      "Epoch 19/30\n",
      "6/6 [==============================] - 0s 206us/step - loss: 0.5559 - acc: 1.0000\n",
      "Epoch 20/30\n",
      "6/6 [==============================] - 0s 193us/step - loss: 0.5554 - acc: 1.0000\n",
      "Epoch 21/30\n",
      "6/6 [==============================] - 0s 146us/step - loss: 0.5550 - acc: 1.0000\n",
      "Epoch 22/30\n",
      "6/6 [==============================] - 0s 178us/step - loss: 0.5545 - acc: 1.0000\n",
      "Epoch 23/30\n",
      "6/6 [==============================] - 0s 495us/step - loss: 0.5540 - acc: 1.0000\n",
      "Epoch 24/30\n",
      "6/6 [==============================] - 0s 198us/step - loss: 0.5536 - acc: 1.0000\n",
      "Epoch 25/30\n",
      "6/6 [==============================] - 0s 185us/step - loss: 0.5531 - acc: 1.0000\n",
      "Epoch 26/30\n",
      "6/6 [==============================] - 0s 164us/step - loss: 0.5527 - acc: 1.0000\n",
      "Epoch 27/30\n",
      "6/6 [==============================] - 0s 187us/step - loss: 0.5522 - acc: 1.0000\n",
      "Epoch 28/30\n",
      "6/6 [==============================] - 0s 189us/step - loss: 0.5517 - acc: 1.0000\n",
      "Epoch 29/30\n",
      "6/6 [==============================] - 0s 190us/step - loss: 0.5513 - acc: 1.0000\n",
      "Epoch 30/30\n",
      "6/6 [==============================] - 0s 169us/step - loss: 0.5508 - acc: 1.0000\n"
     ]
    }
   ],
   "source": [
    "# layer2\n",
    "models2 = [meta_xgb, meta_logistic, meta_NN, meta_weight]\n",
    "S_train2 = stacking(models2, S_train, [1,2,3,4])\n",
    "\n",
    "meta_NN2 = stacking_NN(S_train2, y_train, cv=cv)\n",
    "meta_weight2 = stacking_weight(S_train2, y_train, cv=cv)\n",
    "\n",
    "y_pred_lst2 = []\n",
    "y_pred_binary_lst2 =[]\n",
    "threshold = \"auto\"\n",
    "\n",
    "for meta in [meta_NN2, meta_weight2] :\n",
    "    pred = meta.predict_proba(S_train2)[:, 1]\n",
    "    y_pred_lst2.append(pred)\n",
    "    y_pred_binary_lst2.append(pred_to_binary(pred, threshold = threshold))"
   ]
  },
  {
   "cell_type": "code",
   "execution_count": 45,
   "metadata": {},
   "outputs": [
    {
     "name": "stdout",
     "output_type": "stream",
     "text": [
      "    m1        m3   m4  m10           m11  m12  stack_1   stack_2   stack_3  \\\n",
      "0  0.5  0.473162  0.8  1.0  1.000000e+00  0.5      0.5  0.927291  0.627924   \n",
      "1  0.5  0.653335  0.1  0.0  2.220446e-16  0.5      0.5  0.095648  0.429797   \n",
      "2  0.5  0.643683  1.0  1.0  1.000000e+00  0.5      0.5  0.935867  0.630637   \n",
      "3  0.5  0.482826  0.9  1.0  1.000000e+00  0.5      0.5  0.933229  0.625625   \n",
      "4  0.5  0.485779  0.2  0.0  2.220446e-16  0.5      0.5  0.109274  0.408193   \n",
      "5  0.5  0.173242  0.4  0.0  2.220446e-16  0.5      0.5  0.140798  0.364895   \n",
      "\n",
      "    stack_4  stack_b_1  stack_b_2  stack_b_3  stack_b_4       NN2   weight2  \\\n",
      "0  0.698935        0.0        1.0        1.0        1.0  0.552285  0.595619   \n",
      "1  0.646767        0.0        0.0        0.0        0.0  0.437734  0.433050   \n",
      "2  0.714813        0.0        1.0        1.0        1.0  0.552184  0.595406   \n",
      "3  0.705437        0.0        1.0        1.0        1.0  0.552413  0.596618   \n",
      "4  0.649994        0.0        0.0        0.0        0.0  0.438839  0.439288   \n",
      "5  0.656893        0.0        0.0        0.0        0.0  0.441430  0.452807   \n",
      "\n",
      "   NN_b2  weight_b2  y  \n",
      "0    1.0        1.0  1  \n",
      "1    0.0        0.0  0  \n",
      "2    1.0        1.0  1  \n",
      "3    1.0        1.0  1  \n",
      "4    0.0        0.0  0  \n",
      "5    0.0        0.0  0  \n"
     ]
    }
   ],
   "source": [
    "print(making_result(S_train, y_pred_lst, y_pred_binary_lst, y_pred_lst2, y_pred_binary_lst2, y_train, [1,3,4,10,11,12], [1,2,3,4]))"
   ]
  },
  {
   "cell_type": "markdown",
   "metadata": {},
   "source": [
    "# Save"
   ]
  },
  {
   "cell_type": "code",
   "execution_count": 46,
   "metadata": {},
   "outputs": [],
   "source": [
    "pickle.dump(best_model1, open(path+'/model/model1.pickle.dat', 'wb'))\n",
    "pickle.dump(best_model2, open(path+'/model/model2.pickle.dat', 'wb'))\n",
    "pickle.dump(best_model3, open(path+'/model/model3.pickle.dat', 'wb'))\n",
    "pickle.dump(best_model4, open(path+'/model/model4.pickle.dat', 'wb'))\n",
    "pickle.dump(best_model5, open(path+'/model/model5.pickle.dat', 'wb'))\n",
    "pickle.dump(best_model6, open(path+'/model/model6.pickle.dat', 'wb'))\n",
    "pickle.dump(best_model7, open(path+'/model/model7.pickle.dat', 'wb'))\n",
    "pickle.dump(best_model8, open(path+'/model/model8.pickle.dat', 'wb'))\n",
    "pickle.dump(best_model9, open(path+'/model/model9.pickle.dat', 'wb'))\n",
    "pickle.dump(best_model10, open(path+'/model/model10.pickle.dat', 'wb'))\n",
    "pickle.dump(best_model11, open(path+'/model/model11.pickle.dat', 'wb'))\n",
    "pickle.dump(best_model12, open(path+'/model/model12.pickle.dat', 'wb'))"
   ]
  },
  {
   "cell_type": "code",
   "execution_count": 47,
   "metadata": {},
   "outputs": [],
   "source": [
    "pickle.dump(meta_xgb, open(path+'/model/meta_xgb.pickle.dat', 'wb'))\n",
    "pickle.dump(meta_logistic, open(path+'/model/meta_logistic.pickle.dat', 'wb'))\n",
    "\n",
    "meta_NN.model.save_weights(path+'/model/meta_NN.h5')\n",
    "with open(path+'/model/meta_NN.json', 'w') as f :\n",
    "    f.write(meta_NN.model.to_json())\n",
    "    \n",
    "meta_weight.model.save_weights(path+'/model/meta_weight.h5')\n",
    "with open(path+'/model/meta_weight.json', 'w') as f :\n",
    "    f.write(meta_weight.model.to_json())"
   ]
  },
  {
   "cell_type": "code",
   "execution_count": 48,
   "metadata": {},
   "outputs": [],
   "source": [
    "meta_NN2.model.save_weights(path+'/model/meta_NN2.h5')\n",
    "with open(path+'/model/meta_NN2.json', 'w') as f :\n",
    "    f.write(meta_NN2.model.to_json())\n",
    "    \n",
    "meta_weight2.model.save_weights(path+'/model/meta_weight2.h5')\n",
    "with open(path+'/model/meta_weight2.json', 'w') as f :\n",
    "    f.write(meta_weight2.model.to_json())"
   ]
  },
  {
   "cell_type": "markdown",
   "metadata": {},
   "source": [
    "# Loading & Prediction"
   ]
  },
  {
   "cell_type": "code",
   "execution_count": 49,
   "metadata": {},
   "outputs": [],
   "source": [
    "model1 = pickle.load(open(path+'/model/model1.pickle.dat', 'rb'))\n",
    "model2 = pickle.load(open(path+'/model/model2.pickle.dat', 'rb'))\n",
    "model3 = pickle.load(open(path+'/model/model3.pickle.dat', 'rb'))\n",
    "model4 = pickle.load(open(path+'/model/model4.pickle.dat', 'rb'))\n",
    "model5 = pickle.load(open(path+'/model/model5.pickle.dat', 'rb'))\n",
    "model6 = pickle.load(open(path+'/model/model6.pickle.dat', 'rb'))\n",
    "model7 = pickle.load(open(path+'/model/model7.pickle.dat', 'rb'))\n",
    "model8 = pickle.load(open(path+'/model/model8.pickle.dat', 'rb'))\n",
    "model9 = pickle.load(open(path+'/model/model9.pickle.dat', 'rb'))\n",
    "model10 = pickle.load(open(path+'/model/model10.pickle.dat', 'rb'))\n",
    "model11 = pickle.load(open(path+'/model/model11.pickle.dat', 'rb'))\n",
    "model12 = pickle.load(open(path+'/model/model12.pickle.dat', 'rb'))"
   ]
  },
  {
   "cell_type": "code",
   "execution_count": 50,
   "metadata": {},
   "outputs": [],
   "source": [
    "meta_xgb = pickle.load(open(path+'/model/meta_xgb.pickle.dat', 'rb'))\n",
    "meta_logistic = pickle.load(open(path+'/model/meta_logistic.pickle.dat', 'rb'))\n",
    "\n",
    "with open(path+'/model/meta_NN.json', 'r') as f :\n",
    "    meta_NN = model_from_json(f.read())\n",
    "meta_NN.model.load_weights(path+'/model/meta_NN.h5')\n",
    "\n",
    "with open(path+'/model/meta_weight.json', 'r') as f :\n",
    "    meta_weight = model_from_json(f.read())\n",
    "meta_weight.model.load_weights(path+'/model/meta_weight.h5')"
   ]
  },
  {
   "cell_type": "code",
   "execution_count": 51,
   "metadata": {},
   "outputs": [],
   "source": [
    "with open(path+'/model/meta_NN2.json', 'r') as f :\n",
    "    meta_NN2 = model_from_json(f.read())\n",
    "meta_NN2.model.load_weights(path+'/model/meta_NN2.h5')\n",
    "\n",
    "with open(path+'/model/meta_weight2.json', 'r') as f :\n",
    "    meta_weight2 = model_from_json(f.read())\n",
    "meta_weight2.model.load_weights(path+'/model/meta_weight2.h5')"
   ]
  },
  {
   "cell_type": "markdown",
   "metadata": {},
   "source": [
    "<br><br>"
   ]
  },
  {
   "cell_type": "code",
   "execution_count": 53,
   "metadata": {},
   "outputs": [
    {
     "name": "stdout",
     "output_type": "stream",
     "text": [
      "\n",
      "---------- Inference ----------\n",
      "Threshold : auto\n",
      "model 1 is stacked\n",
      "model 3 is stacked\n",
      "model 4 is stacked\n",
      "model 10 is stacked\n",
      "model 11 is stacked\n",
      "model 12 is stacked\n",
      "\n",
      "\n",
      "model 1 is stacked\n",
      "model 2 is stacked\n",
      "model 3 is stacked\n",
      "model 4 is stacked\n",
      "\n",
      "\n",
      "    m1        m3   m4  m10  m11  m12  stack_1   stack_2   stack_3   stack_4  \\\n",
      "0  0.5  0.561660  0.8  0.5  1.0  0.5      0.5  0.817496  0.603768  0.638133   \n",
      "1  0.5  0.000003  0.6  0.5  1.0  0.5      0.5  0.816095  0.586195  0.611409   \n",
      "\n",
      "   stack_b_1  stack_b_2  stack_b_3  stack_b_4       NN2   weight2  NN_b2  \\\n",
      "0        0.0        1.0        1.0        1.0  0.543517  0.580466    0.0   \n",
      "1        0.0        0.0        0.0        0.0  0.544415  0.585899    1.0   \n",
      "\n",
      "   weight_b2    y  \n",
      "0        0.0  0.0  \n",
      "1        1.0  1.0  \n"
     ]
    }
   ],
   "source": [
    "models = [model1, model2, model3, model4, model5, model6, model7, model8, model9, model10, model11, model12]\n",
    "models2 = [meta_xgb, meta_logistic, meta_NN, meta_weight]\n",
    "models3 = [meta_NN2, meta_weight2]\n",
    "\n",
    "threshold = \"auto\"\n",
    "print(\"\\n---------- Inference ----------\")\n",
    "print(\"Threshold :\", threshold)\n",
    "\n",
    "S_test = stacking(models, X_test, [1,3,4,10,11,12])\n",
    "y_pred_lst = []\n",
    "y_pred_binary_lst =[]\n",
    "\n",
    "for meta in models2 :\n",
    "    pred = meta.predict_proba(S_test)[:, 1]\n",
    "    y_pred_lst.append(pred)\n",
    "    y_pred_binary_lst.append(pred_to_binary(pred, threshold = threshold))\n",
    "\n",
    "S_test2 = stacking(models2, S_test, [1,2,3,4])\n",
    "y_pred_lst2 = []\n",
    "y_pred_binary_lst2 =[]\n",
    "\n",
    "for meta in models3 :\n",
    "    pred = meta.predict_proba(S_test2)[:, 1]\n",
    "    y_pred_lst2.append(pred)\n",
    "    y_pred_binary_lst2.append(pred_to_binary(pred, threshold = threshold))\n",
    "\n",
    "final, final_df = export_csv(patient_num, error_patient, y_pred_binary_lst2, y_pred_lst2, path = path, index=0)\n",
    "print(making_result(S_test, y_pred_lst, y_pred_binary_lst, y_pred_lst2, y_pred_binary_lst2, final, [1,3,4,10,11,12], [1,2,3,4]))"
   ]
  },
  {
   "cell_type": "code",
   "execution_count": null,
   "metadata": {},
   "outputs": [],
   "source": []
  }
 ],
 "metadata": {
  "kernelspec": {
   "display_name": "Python 3",
   "language": "python",
   "name": "python3"
  },
  "language_info": {
   "codemirror_mode": {
    "name": "ipython",
    "version": 3
   },
   "file_extension": ".py",
   "mimetype": "text/x-python",
   "name": "python",
   "nbconvert_exporter": "python",
   "pygments_lexer": "ipython3",
   "version": "3.6.4"
  }
 },
 "nbformat": 4,
 "nbformat_minor": 2
}
