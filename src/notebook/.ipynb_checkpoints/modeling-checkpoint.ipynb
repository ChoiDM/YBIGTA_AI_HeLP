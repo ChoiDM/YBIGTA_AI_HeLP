{
 "cells": [
  {
   "cell_type": "code",
   "execution_count": null,
   "metadata": {},
   "outputs": [],
   "source": [
    "from utils.data_loader import train_data_loader, test_data_loader\n",
    "from utils.inference_tools import pred_to_binary, export_csv, making_result\n",
    "from utils.model_stacking import *\n",
    "\n",
    "from xgboost import XGBClassifier\n",
    "from lightgbm import LGBMClassifier\n",
    "from sklearn.svm import SVC\n",
    "from sklearn.ensemble import RandomForestClassifier, ExtraTreesClassifier, AdaBoostClassifier\n",
    "from sklearn.linear_model import LogisticRegression, Lasso, RidgeClassifier, SGDClassifier, Lars, LassoLars\n",
    "from sklearn.model_selection import GridSearchCV, RandomizedSearchCV\n",
    "from sklearn.metrics import fbeta_score, make_scorer\n",
    "\n",
    "from keras.models import Sequential, model_from_json\n",
    "from keras.layers import Dense\n",
    "from keras.wrappers.scikit_learn import KerasClassifier\n",
    "from keras.utils import np_utils\n",
    "\n",
    "import pandas as pd\n",
    "import numpy as np\n",
    "import pickle\n",
    "import datetime\n",
    "\n",
    "import warnings\n",
    "warnings.filterwarnings('ignore')\n",
    "pd.set_option('display.max_rows', 500)\n",
    "pd.set_option('display.max_columns', 500)"
   ]
  },
  {
   "cell_type": "markdown",
   "metadata": {},
   "source": [
    "# Load Data and Pre-processing"
   ]
  },
  {
   "cell_type": "code",
   "execution_count": null,
   "metadata": {},
   "outputs": [],
   "source": [
    "# Print Current Time\n",
    "time = str(datetime.datetime.now()).split()[1].split('.')[0]\n",
    "print(\"Start:\", time)\n",
    "\n",
    "\n",
    "# Print Information\n",
    "name = 'KHW'\n",
    "model = 'ML Stacking'\n",
    "summary = 'HyperParams tuning with 10 sklearn models + 4 stacking model'\n",
    "\n",
    "print('Author Name :', name)\n",
    "print('Model :', model)\n",
    "print('Summary :', summary)\n",
    "print(\"\\n\")\n",
    "\n",
    "\n",
    "# Setting\n",
    "path = \"./data\"\n",
    "pos_dir = path+\"/train/positive/\"\n",
    "neg_dir = path+\"/train/negative/\"\n",
    "test_dir = path+'/test/'\n",
    "\n",
    "features = ['firstorder', 'shape']\n",
    "target_voxel = (0.65, 0.65, 3)"
   ]
  },
  {
   "cell_type": "code",
   "execution_count": null,
   "metadata": {},
   "outputs": [],
   "source": [
    "norm = 'new'\n",
    "do_resample = True\n",
    "do_shuffle = True\n",
    "\n",
    "X_train, y_train = train_data_loader(pos_dir, neg_dir, norm, do_resample, do_shuffle, features, target_voxel)"
   ]
  },
  {
   "cell_type": "code",
   "execution_count": null,
   "metadata": {},
   "outputs": [],
   "source": [
    "norm = 'new'\n",
    "do_resample = True\n",
    "\n",
    "X_test, patient_num, error_patient = test_data_loader(test_dir, norm, do_resample, features, target_voxel)"
   ]
  },
  {
   "cell_type": "markdown",
   "metadata": {},
   "source": [
    "# Base Model"
   ]
  },
  {
   "cell_type": "markdown",
   "metadata": {},
   "source": [
    "### xgboost"
   ]
  },
  {
   "cell_type": "code",
   "execution_count": null,
   "metadata": {},
   "outputs": [],
   "source": [
    "# Fit Model with Training Data\n",
    "model1 = XGBClassifier(n_jobs=4)\n",
    "model1.fit(X_train, y_train)\n",
    "\n",
    "\n",
    "# Save model to file\n",
    "# pickle.dump(model1, open('./data/model/model1.pickle.dat', 'wb'))"
   ]
  },
  {
   "cell_type": "markdown",
   "metadata": {},
   "source": [
    "### svm"
   ]
  },
  {
   "cell_type": "code",
   "execution_count": null,
   "metadata": {},
   "outputs": [],
   "source": [
    "# Fit Model with Training Data\n",
    "model2 = SVC()\n",
    "model2.fit(X_train, y_train)\n",
    "\n",
    "\n",
    "# Save model to file\n",
    "# pickle.dump(model2, open('./data/model/model2.pickle.dat', 'wb'))"
   ]
  },
  {
   "cell_type": "markdown",
   "metadata": {},
   "source": [
    "### logistic regression"
   ]
  },
  {
   "cell_type": "code",
   "execution_count": null,
   "metadata": {},
   "outputs": [],
   "source": [
    "# Fit Model with Training Data\n",
    "model3 = LogisticRegression(n_jobs=4)\n",
    "model3.fit(X_train, y_train)\n",
    "\n",
    "\n",
    "# Save model to file\n",
    "# pickle.dump(model3, open('./data/model/model3.pickle.dat', 'wb'))"
   ]
  },
  {
   "cell_type": "markdown",
   "metadata": {},
   "source": [
    "### random forest"
   ]
  },
  {
   "cell_type": "code",
   "execution_count": null,
   "metadata": {},
   "outputs": [],
   "source": [
    "# Fit Model with Training Data\n",
    "model4 = RandomForestClassifier(n_jobs=4)\n",
    "model4.fit(X_train, y_train)\n",
    "\n",
    "\n",
    "# Save model to file\n",
    "# pickle.dump(mode4l, open('./data/model/model4.pickle.dat', 'wb'))"
   ]
  },
  {
   "cell_type": "markdown",
   "metadata": {},
   "source": [
    "<br><br><br>"
   ]
  },
  {
   "cell_type": "markdown",
   "metadata": {},
   "source": [
    "# Score"
   ]
  },
  {
   "cell_type": "code",
   "execution_count": null,
   "metadata": {},
   "outputs": [],
   "source": [
    "BETA=0.75"
   ]
  },
  {
   "cell_type": "code",
   "execution_count": null,
   "metadata": {},
   "outputs": [],
   "source": [
    "def new_scorer(y_true, y_pred, threshold=0.5) :\n",
    "    result = []\n",
    "    global BETA\n",
    "\n",
    "    for pred in list(y_pred) :\n",
    "        if pred >= threshold :\n",
    "            result.append(1)\n",
    "        else :\n",
    "            result.append(0)\n",
    "            \n",
    "    return fbeta_score(y_true, np.array(result), beta=BETA)"
   ]
  },
  {
   "cell_type": "code",
   "execution_count": null,
   "metadata": {},
   "outputs": [],
   "source": [
    "scorer = make_scorer(fbeta_score, beta=BETA)"
   ]
  },
  {
   "cell_type": "markdown",
   "metadata": {},
   "source": [
    "# Modeling"
   ]
  },
  {
   "cell_type": "markdown",
   "metadata": {},
   "source": [
    "### MLP"
   ]
  },
  {
   "cell_type": "code",
   "execution_count": null,
   "metadata": {},
   "outputs": [],
   "source": []
  },
  {
   "cell_type": "code",
   "execution_count": null,
   "metadata": {},
   "outputs": [],
   "source": []
  },
  {
   "cell_type": "code",
   "execution_count": null,
   "metadata": {},
   "outputs": [],
   "source": []
  },
  {
   "cell_type": "markdown",
   "metadata": {},
   "source": [
    "### CNN"
   ]
  },
  {
   "cell_type": "code",
   "execution_count": null,
   "metadata": {},
   "outputs": [],
   "source": []
  },
  {
   "cell_type": "code",
   "execution_count": null,
   "metadata": {},
   "outputs": [],
   "source": []
  },
  {
   "cell_type": "code",
   "execution_count": null,
   "metadata": {},
   "outputs": [],
   "source": []
  },
  {
   "cell_type": "markdown",
   "metadata": {},
   "source": [
    "# Parameter Tuning & CV"
   ]
  },
  {
   "cell_type": "code",
   "execution_count": null,
   "metadata": {},
   "outputs": [],
   "source": [
    "cv=2"
   ]
  },
  {
   "cell_type": "markdown",
   "metadata": {},
   "source": [
    "### xgboost"
   ]
  },
  {
   "cell_type": "code",
   "execution_count": null,
   "metadata": {},
   "outputs": [],
   "source": [
    "model1 = XGBClassifier()"
   ]
  },
  {
   "cell_type": "code",
   "execution_count": null,
   "metadata": {},
   "outputs": [],
   "source": [
    "m1_params1 = {\n",
    "    'max_depth' : [5,6,7,8],\n",
    "    'min_child_weight' : [0.5, 1, 5, 10, 15, 20],\n",
    "    'gamma' : [1.5, 2, 2.5, 3.0, 5],\n",
    "    'subsample' : [0.5, 0.6, 0.8, 1.0],\n",
    "    'colsample_bytree' : [0.5, 0.6, 0.8, 1.0],\n",
    "    'probability' : [True],\n",
    "    'learning_rate' : [0.01, 0.05, 0.1],\n",
    "    'n_estimators' : [300, 500, 700]\n",
    "\n",
    "}\n",
    "\n",
    "m1_grid_1 = GridSearchCV(model1, param_grid=m1_params1, scoring=scorer, cv=cv, verbose=0, n_jobs=-1)\n",
    "m1_grid_1.fit(X_train, y_train)\n",
    "\n",
    "best_model1 = m1_grid_1.best_estimator_\n",
    "\n",
    "print(\"Best Score : {}\".format(m1_grid_1.best_score_))\n",
    "print(\"Best Params : {}\".format(m1_grid_1.best_params_))"
   ]
  },
  {
   "cell_type": "markdown",
   "metadata": {},
   "source": [
    "### svm"
   ]
  },
  {
   "cell_type": "code",
   "execution_count": null,
   "metadata": {},
   "outputs": [],
   "source": [
    "model2 = SVC()"
   ]
  },
  {
   "cell_type": "code",
   "execution_count": null,
   "metadata": {},
   "outputs": [],
   "source": [
    "m2_params1 = {\n",
    "    'C': [0.001, 0.01, 0.1, 1, 10, 100], \n",
    "    'gamma' : [0.001, 0.01, 0.1, 1, 2, 5, 10, 20],\n",
    "    'degree' : [2,3,4],\n",
    "    'probability' : [True]\n",
    "}\n",
    "\n",
    "m2_grid_1 = GridSearchCV(model2, param_grid=m2_params1, scoring=scorer, cv=cv, verbose=0, n_jobs=-1)\n",
    "m2_grid_1.fit(X_train, y_train)\n",
    "\n",
    "best_model2 = m2_grid_1.best_estimator_\n",
    "\n",
    "print(\"Best Score : {}\".format(m2_grid_1.best_score_))\n",
    "print(\"Best Params : {}\".format(m2_grid_1.best_params_))"
   ]
  },
  {
   "cell_type": "markdown",
   "metadata": {},
   "source": [
    "### logistic regression"
   ]
  },
  {
   "cell_type": "code",
   "execution_count": null,
   "metadata": {},
   "outputs": [],
   "source": [
    "model3 = LogisticRegression()"
   ]
  },
  {
   "cell_type": "code",
   "execution_count": null,
   "metadata": {},
   "outputs": [],
   "source": [
    "m3_params1 = {\n",
    "    'C': [0.001, 0.01, 0.1, 1, 10, 100],\n",
    "    'max_iter' : [n for n in range(100,1101, 200)],\n",
    "}\n",
    "\n",
    "m3_grid_1 = GridSearchCV(model3, param_grid=m3_params1, scoring=scorer, cv=cv, verbose=0, n_jobs=-1)\n",
    "m3_grid_1.fit(X_train, y_train)\n",
    "\n",
    "best_model3 = m3_grid_1.best_estimator_\n",
    "\n",
    "print(\"Best Score : {}\".format(m3_grid_1.best_score_))\n",
    "print(\"Best Params : {}\".format(m3_grid_1.best_params_))"
   ]
  },
  {
   "cell_type": "markdown",
   "metadata": {},
   "source": [
    "### random forest"
   ]
  },
  {
   "cell_type": "code",
   "execution_count": null,
   "metadata": {},
   "outputs": [],
   "source": [
    "model4 = RandomForestClassifier()"
   ]
  },
  {
   "cell_type": "code",
   "execution_count": null,
   "metadata": {},
   "outputs": [],
   "source": [
    "m4_params1 = {\n",
    "    'max_depth' : [6, 8, 10, 15, 20, 30, 40, 50],\n",
    "    'min_samples_leaf': [1, 2, 3, 4, 5,10, 20, 50],\n",
    "    'n_estimators' : [100, 300, 500]\n",
    "}\n",
    "\n",
    "m4_grid_1 = GridSearchCV(model4, param_grid=m4_params1, scoring=scorer, cv=cv, verbose=0, n_jobs=-1)\n",
    "m4_grid_1.fit(X_train, y_train)\n",
    "\n",
    "best_model4 = m4_grid_1.best_estimator_\n",
    "\n",
    "print(\"Best Score : {}\".format(m4_grid_1.best_score_))\n",
    "print(\"Best Params : {}\".format(m4_grid_1.best_params_))"
   ]
  },
  {
   "cell_type": "markdown",
   "metadata": {},
   "source": [
    "### lasso regression"
   ]
  },
  {
   "cell_type": "code",
   "execution_count": null,
   "metadata": {},
   "outputs": [],
   "source": [
    "model5 = LogisticRegression()"
   ]
  },
  {
   "cell_type": "code",
   "execution_count": null,
   "metadata": {},
   "outputs": [],
   "source": [
    "m5_params1 = {\n",
    "    'C': [0.001, 0.01, 0.1, 1, 10, 100],\n",
    "    'max_iter' : [n for n in range(100,1101, 200)],\n",
    "    'penalty' : [\"l1\"]\n",
    "}\n",
    "\n",
    "m5_grid_1 = GridSearchCV(model5, param_grid=m5_params1, scoring=scorer, cv=cv, verbose=0, n_jobs=-1)\n",
    "m5_grid_1.fit(X_train, y_train)\n",
    "\n",
    "best_model5 = m5_grid_1.best_estimator_\n",
    "\n",
    "print(\"Best Score : {}\".format(m5_grid_1.best_score_))\n",
    "print(\"Best Params : {}\".format(m5_grid_1.best_params_))"
   ]
  },
  {
   "cell_type": "markdown",
   "metadata": {},
   "source": [
    "### ridge regression"
   ]
  },
  {
   "cell_type": "code",
   "execution_count": null,
   "metadata": {},
   "outputs": [],
   "source": [
    "model6 = RidgeClassifier()"
   ]
  },
  {
   "cell_type": "code",
   "execution_count": null,
   "metadata": {},
   "outputs": [],
   "source": [
    "m6_params1 = {\n",
    "    'alpha': [0.1, 1, 2, 5, 10, 20, 50, 100],\n",
    "    'max_iter' : [None]+[n for n in range(100,1101, 200)]\n",
    "}\n",
    "\n",
    "m6_grid_1 = GridSearchCV(model6, param_grid=m6_params1, scoring=scorer, cv=cv, verbose=0, n_jobs=-1)\n",
    "m6_grid_1.fit(X_train, y_train)\n",
    "\n",
    "best_model6 = m6_grid_1.best_estimator_\n",
    "\n",
    "print(\"Best Score : {}\".format(m6_grid_1.best_score_))\n",
    "print(\"Best Params : {}\".format(m6_grid_1.best_params_))"
   ]
  },
  {
   "cell_type": "markdown",
   "metadata": {},
   "source": [
    "### elasticNet"
   ]
  },
  {
   "cell_type": "code",
   "execution_count": null,
   "metadata": {},
   "outputs": [],
   "source": [
    "model7 = SGDClassifier()"
   ]
  },
  {
   "cell_type": "code",
   "execution_count": null,
   "metadata": {},
   "outputs": [],
   "source": [
    "m7_params1 = {\n",
    "    'alpha': [0.001, 0.01, 0.1, 1, 2, 5, 10, 20, 50, 100],\n",
    "    'l1_ratio':[0.1, 0.15, 0.2, 0.3, 0.4, 0.5, 0.6, 0.7], \n",
    "    'max_iter' : [None]+[n for n in range(800, 1601, 200)],\n",
    "    'penalty' : [\"elasticnet\"],\n",
    "    'loss' : [\"log\"]\n",
    "}\n",
    "\n",
    "m7_grid_1 = GridSearchCV(model7, param_grid=m7_params1, scoring=scorer, cv=cv, verbose=0, n_jobs=-1)\n",
    "m7_grid_1.fit(X_train, y_train)\n",
    "\n",
    "best_model7 = m7_grid_1.best_estimator_\n",
    "\n",
    "print(\"Best Score : {}\".format(m7_grid_1.best_score_))\n",
    "print(\"Best Params : {}\".format(m7_grid_1.best_params_))"
   ]
  },
  {
   "cell_type": "markdown",
   "metadata": {},
   "source": [
    "### LARS"
   ]
  },
  {
   "cell_type": "code",
   "execution_count": null,
   "metadata": {},
   "outputs": [],
   "source": [
    "model8 = Lars()"
   ]
  },
  {
   "cell_type": "code",
   "execution_count": null,
   "metadata": {},
   "outputs": [],
   "source": [
    "m8_params1 = {\n",
    "    'n_nonzero_coefs': [n for n in range(30, 150, 20)]\n",
    "}\n",
    "\n",
    "max_score=0\n",
    "m8_best_t = 0\n",
    "best_model8 = \"\"\n",
    "m8_best_grid_1 = \"\"\n",
    "\n",
    "for t in [0, 0.05, 0.1, 0.2, 0.25, 0.3, 0.45, 0.4, 0.45, 0.5, 0.6] :\n",
    "    scorer2 = make_scorer(new_scorer, threshold=t)\n",
    "    m8_grid_1 = GridSearchCV(model8, param_grid=m8_params1, scoring=scorer2, cv=cv, verbose=0, n_jobs=-1)\n",
    "    m8_grid_1.fit(X_train, y_train)\n",
    "\n",
    "    if max_score < m8_grid_1.best_score_ :\n",
    "        best_model8 = m8_grid_1.best_estimator_\n",
    "        m8_best_t = t\n",
    "        m8_best_grid_1 = m8_grid_1\n",
    "        \n",
    "m8_grid_1 = m8_best_grid_1\n",
    "best_model8 = m8_grid_1.best_estimator_\n",
    "\n",
    "print(\"Best Score : {}\".format(m8_grid_1.best_score_))     \n",
    "print(\"Threshold :\", m8_best_t)\n",
    "print(\"Best Params : {}\".format(m8_grid_1.best_params_))"
   ]
  },
  {
   "cell_type": "markdown",
   "metadata": {},
   "source": [
    "### LARS lasso"
   ]
  },
  {
   "cell_type": "code",
   "execution_count": null,
   "metadata": {},
   "outputs": [],
   "source": [
    "model9 = LassoLars()"
   ]
  },
  {
   "cell_type": "code",
   "execution_count": null,
   "metadata": {},
   "outputs": [],
   "source": [
    "m9_params1 = {\n",
    "    'alpha': [0.1, 1, 2, 5, 10, 20, 50, 100],\n",
    "    'max_iter' : [n for n in range(800, 1601, 200)]\n",
    "}\n",
    "\n",
    "max_score=0\n",
    "m9_best_t = 0\n",
    "best_model9 = \"\"\n",
    "m9_best_grid_1 = \"\"\n",
    "for t in [0, 0.05, 0.1, 0.2, 0.25, 0.3, 0.45, 0.4, 0.45, 0.5, 0.6] :\n",
    "    scorer2 = make_scorer(new_scorer, threshold=t)\n",
    "    m9_grid_1 = GridSearchCV(model9, param_grid=m9_params1, scoring=scorer2, cv=cv, verbose=0, n_jobs=-1)\n",
    "    m9_grid_1.fit(X_train, y_train)\n",
    "\n",
    "    if max_score < m9_grid_1.best_score_ :\n",
    "        best_model9 = m9_grid_1.best_estimator_\n",
    "        m9_best_t = t\n",
    "        m9_best_grid_1 = m9_grid_1\n",
    "\n",
    "m9_grid_1 = m9_best_grid_1\n",
    "best_model9 = m9_grid_1.best_estimator_\n",
    "\n",
    "print(\"Best Score : {}\".format(m9_grid_1.best_score_))     \n",
    "print(\"Threshold :\", m9_best_t)\n",
    "print(\"Best Params : {}\".format(m9_grid_1.best_params_))"
   ]
  },
  {
   "cell_type": "markdown",
   "metadata": {},
   "source": [
    "### ExtraTree"
   ]
  },
  {
   "cell_type": "code",
   "execution_count": null,
   "metadata": {},
   "outputs": [],
   "source": [
    "model10 = ExtraTreesClassifier()"
   ]
  },
  {
   "cell_type": "code",
   "execution_count": null,
   "metadata": {},
   "outputs": [],
   "source": [
    "m10_params1 = {\n",
    "    'max_depth' : [None, 3, 5, 7, 9],\n",
    "    'n_estimators' : [10, 50, 100, 300, 500]\n",
    "}\n",
    "\n",
    "m10_grid_1 = GridSearchCV(model10, param_grid=m10_params1, scoring=scorer, cv=cv, verbose=0, n_jobs=-1)\n",
    "m10_grid_1.fit(X_train, y_train)\n",
    "\n",
    "best_model10 = m10_grid_1.best_estimator_\n",
    "\n",
    "print(\"Best Score : {}\".format(m10_grid_1.best_score_))\n",
    "print(\"Best Params : {}\".format(m10_grid_1.best_params_))"
   ]
  },
  {
   "cell_type": "markdown",
   "metadata": {},
   "source": [
    "### AdaBoost"
   ]
  },
  {
   "cell_type": "code",
   "execution_count": null,
   "metadata": {},
   "outputs": [],
   "source": [
    "model11 = AdaBoostClassifier()"
   ]
  },
  {
   "cell_type": "code",
   "execution_count": null,
   "metadata": {},
   "outputs": [],
   "source": [
    "m11_params1 = {\n",
    "    'n_estimators' : [100, 300, 500],\n",
    "    'learning_rate' : [0.01, 0.05, 0.1],\n",
    "    'algorithm' :['SAMME.R']\n",
    "}\n",
    "\n",
    "m11_grid_1 = GridSearchCV(model11, param_grid=m11_params1, scoring=scorer, cv=cv, verbose=0, n_jobs=-1)\n",
    "m11_grid_1.fit(X_train, y_train)\n",
    "\n",
    "best_model11 = m11_grid_1.best_estimator_\n",
    "\n",
    "print(\"Best Score : {}\".format(m11_grid_1.best_score_))\n",
    "print(\"Best Params : {}\".format(m11_grid_1.best_params_))"
   ]
  },
  {
   "cell_type": "markdown",
   "metadata": {},
   "source": [
    "### lightgbm"
   ]
  },
  {
   "cell_type": "code",
   "execution_count": null,
   "metadata": {},
   "outputs": [],
   "source": [
    "model12 = LGBMClassifier()"
   ]
  },
  {
   "cell_type": "code",
   "execution_count": null,
   "metadata": {},
   "outputs": [],
   "source": [
    "m12_params1 = {\n",
    "    'max_depth' : [-1,5,7,9],\n",
    "    'min_child_weight' : [0.5, 1, 5, 10],\n",
    "    'colsample_bytree' : [0.6, 0.8, 1.0],\n",
    "    'subsample' : [0.6, 0.8, 1.0],\n",
    "    'probability' : [True],\n",
    "    'learning_rate' : [0.05, 0.1],\n",
    "    'n_estimators' : [100, 300, 500],\n",
    "    'reg_alpha' : [0.0, 1.0, 5.0, 10.0], \n",
    "    'reg_lambda' : [0.0, 1.0, 5.0, 10.0]\n",
    "}\n",
    "\n",
    "m12_grid_1 = GridSearchCV(model12, param_grid=m12_params1, scoring=scorer, cv=cv, verbose=0, n_jobs=-1)\n",
    "m12_grid_1.fit(X_train, y_train)\n",
    "\n",
    "best_model12 = m12_grid_1.best_estimator_\n",
    "\n",
    "print(\"Best Score : {}\".format(m12_grid_1.best_score_))\n",
    "print(\"Best Params : {}\".format(m12_grid_1.best_params_))"
   ]
  },
  {
   "cell_type": "markdown",
   "metadata": {},
   "source": [
    "# Model Stacking"
   ]
  },
  {
   "cell_type": "code",
   "execution_count": null,
   "metadata": {},
   "outputs": [],
   "source": [
    "def stacking(models, data, include, predict_binary=[None]) : \n",
    "    result = []\n",
    "    \n",
    "    for idx, model in enumerate(models) :\n",
    "        if idx+1 not in include :\n",
    "            continue\n",
    "                \n",
    "        if idx+1 in predict_binary :\n",
    "            result.append(model.predict(data))\n",
    "        else :\n",
    "            result.append(model.predict_proba(data)[:,1])\n",
    "            print(\"model\", idx+1, \"is stacked\")\n",
    " \n",
    "    print(\"\\n\")\n",
    "    return np.array(result).T"
   ]
  },
  {
   "cell_type": "code",
   "execution_count": null,
   "metadata": {
    "scrolled": true
   },
   "outputs": [],
   "source": [
    "# layer1\n",
    "models = [best_model1, best_model2, best_model3, best_model4, best_model5, best_model6, \n",
    "          best_model7, best_model8, best_model9, best_model10, best_model11, best_model12]\n",
    "S_train = stacking(models, X_train, [1,3,4,10,11,12])\n",
    "\n",
    "meta_xgb = stacking_xgb(S_train, y_train, cv=cv, beta=0.5)\n",
    "meta_logistic = stacking_logistic(S_train, y_train, cv=cv, beta=0.5)\n",
    "meta_NN = stacking_NN(S_train, y_train, cv=cv)\n",
    "meta_weight = stacking_weight(S_train, y_train, cv=cv)\n",
    "\n",
    "y_pred_lst = []\n",
    "y_pred_binary_lst =[]\n",
    "threshold = \"auto\"\n",
    "\n",
    "for meta in [meta_xgb, meta_logistic, meta_NN, meta_weight] :\n",
    "    pred = meta.predict_proba(S_train)[:, 1]\n",
    "    y_pred_lst.append(pred)\n",
    "    y_pred_binary_lst.append(pred_to_binary(pred, threshold = threshold))"
   ]
  },
  {
   "cell_type": "code",
   "execution_count": null,
   "metadata": {},
   "outputs": [],
   "source": [
    "# layer2\n",
    "models2 = [meta_xgb, meta_logistic, meta_NN, meta_weight]\n",
    "S_train2 = stacking(models2, S_train, [1,2,3,4])\n",
    "\n",
    "meta_NN2 = stacking_NN(S_train2, y_train, cv=cv)\n",
    "meta_weight2 = stacking_weight(S_train2, y_train, cv=cv)\n",
    "\n",
    "y_pred_lst2 = []\n",
    "y_pred_binary_lst2 =[]\n",
    "threshold = \"auto\"\n",
    "\n",
    "for meta in [meta_NN2, meta_weight2] :\n",
    "    pred = meta.predict_proba(S_train2)[:, 1]\n",
    "    y_pred_lst2.append(pred)\n",
    "    y_pred_binary_lst2.append(pred_to_binary(pred, threshold = threshold))"
   ]
  },
  {
   "cell_type": "code",
   "execution_count": null,
   "metadata": {},
   "outputs": [],
   "source": [
    "print(making_result(S_train, y_pred_lst, y_pred_binary_lst, y_pred_lst2, y_pred_binary_lst2, [1,3,4,10,11,12], [1,2,3,4], [1,2], final))"
   ]
  },
  {
   "cell_type": "markdown",
   "metadata": {},
   "source": [
    "# Save"
   ]
  },
  {
   "cell_type": "code",
   "execution_count": null,
   "metadata": {},
   "outputs": [],
   "source": [
    "pickle.dump(best_model1, open(path+'/model/model1.pickle.dat', 'wb'))\n",
    "pickle.dump(best_model2, open(path+'/model/model2.pickle.dat', 'wb'))\n",
    "pickle.dump(best_model3, open(path+'/model/model3.pickle.dat', 'wb'))\n",
    "pickle.dump(best_model4, open(path+'/model/model4.pickle.dat', 'wb'))\n",
    "pickle.dump(best_model5, open(path+'/model/model5.pickle.dat', 'wb'))\n",
    "pickle.dump(best_model6, open(path+'/model/model6.pickle.dat', 'wb'))\n",
    "pickle.dump(best_model7, open(path+'/model/model7.pickle.dat', 'wb'))\n",
    "pickle.dump(best_model8, open(path+'/model/model8.pickle.dat', 'wb'))\n",
    "pickle.dump(best_model9, open(path+'/model/model9.pickle.dat', 'wb'))\n",
    "pickle.dump(best_model10, open(path+'/model/model10.pickle.dat', 'wb'))\n",
    "pickle.dump(best_model11, open(path+'/model/model11.pickle.dat', 'wb'))\n",
    "pickle.dump(best_model12, open(path+'/model/model12.pickle.dat', 'wb'))"
   ]
  },
  {
   "cell_type": "code",
   "execution_count": null,
   "metadata": {},
   "outputs": [],
   "source": [
    "pickle.dump(meta_xgb, open(path+'/model/meta_xgb.pickle.dat', 'wb'))\n",
    "pickle.dump(meta_logistic, open(path+'/model/meta_logistic.pickle.dat', 'wb'))\n",
    "\n",
    "meta_NN.model.save_weights(path+'/model/meta_NN.h5')\n",
    "with open(path+'/model/meta_NN.json', 'w') as f :\n",
    "    f.write(meta_NN.model.to_json())\n",
    "    \n",
    "meta_weight.model.save_weights(path+'/model/meta_weight.h5')\n",
    "with open(path+'/model/meta_weight.json', 'w') as f :\n",
    "    f.write(meta_weight.model.to_json())"
   ]
  },
  {
   "cell_type": "code",
   "execution_count": null,
   "metadata": {},
   "outputs": [],
   "source": [
    "meta_NN2.model.save_weights(path+'/model/meta_NN2.h5')\n",
    "with open(path+'/model/meta_NN2.json', 'w') as f :\n",
    "    f.write(meta_NN2.model.to_json())\n",
    "    \n",
    "meta_weight2.model.save_weights(path+'/model/meta_weight2.h5')\n",
    "with open(path+'/model/meta_weight2.json', 'w') as f :\n",
    "    f.write(meta_weight2.model.to_json())"
   ]
  },
  {
   "cell_type": "markdown",
   "metadata": {},
   "source": [
    "# Loading & Prediction"
   ]
  },
  {
   "cell_type": "code",
   "execution_count": null,
   "metadata": {},
   "outputs": [],
   "source": [
    "model1 = pickle.load(open(path+'/model/model1.pickle.dat', 'rb'))\n",
    "model2 = pickle.load(open(path+'/model/model2.pickle.dat', 'rb'))\n",
    "model3 = pickle.load(open(path+'/model/model3.pickle.dat', 'rb'))\n",
    "model4 = pickle.load(open(path+'/model/model4.pickle.dat', 'rb'))\n",
    "model5 = pickle.load(open(path+'/model/model5.pickle.dat', 'rb'))\n",
    "model6 = pickle.load(open(path+'/model/model6.pickle.dat', 'rb'))\n",
    "model7 = pickle.load(open(path+'/model/model7.pickle.dat', 'rb'))\n",
    "model8 = pickle.load(open(path+'/model/model8.pickle.dat', 'rb'))\n",
    "model9 = pickle.load(open(path+'/model/model9.pickle.dat', 'rb'))\n",
    "model10 = pickle.load(open(path+'/model/model10.pickle.dat', 'rb'))\n",
    "model11 = pickle.load(open(path+'/model/model11.pickle.dat', 'rb'))\n",
    "model12 = pickle.load(open(path+'/model/model12.pickle.dat', 'rb'))"
   ]
  },
  {
   "cell_type": "code",
   "execution_count": null,
   "metadata": {},
   "outputs": [],
   "source": [
    "meta_xgb = pickle.load(open(path+'/model/meta_xgb.pickle.dat', 'rb'))\n",
    "meta_logistic = pickle.load(open(path+'/model/meta_logistic.pickle.dat', 'rb'))\n",
    "\n",
    "with open(path+'/model/meta_NN.json', 'r') as f :\n",
    "    meta_NN = model_from_json(f.read())\n",
    "meta_NN.model.load_weights(path+'/model/meta_NN.h5')\n",
    "\n",
    "with open(path+'/model/meta_weight.json', 'r') as f :\n",
    "    meta_weight = model_from_json(f.read())\n",
    "meta_weight.model.load_weights(path+'/model/meta_weight.h5')"
   ]
  },
  {
   "cell_type": "code",
   "execution_count": null,
   "metadata": {},
   "outputs": [],
   "source": [
    "with open(path+'/model/meta_NN2.json', 'r') as f :\n",
    "    meta_NN2 = model_from_json(f.read())\n",
    "meta_NN2.model.load_weights(path+'/model/meta_NN2.h5')\n",
    "\n",
    "with open(path+'/model/meta_weight2.json', 'r') as f :\n",
    "    meta_weight2 = model_from_json(f.read())\n",
    "meta_weight2.model.load_weights(path+'/model/meta_weight2.h5')"
   ]
  },
  {
   "cell_type": "markdown",
   "metadata": {},
   "source": [
    "<br><br>"
   ]
  },
  {
   "cell_type": "code",
   "execution_count": null,
   "metadata": {},
   "outputs": [],
   "source": [
    "models = [model1, model2, model3, model4, model5, model6, model7, model8, model9, model10, model11, model12]\n",
    "models2 = [meta_xgb, meta_logistic, meta_NN, meta_weight]\n",
    "models3 = [meta_NN2, meta_weight2]\n",
    "\n",
    "threshold = \"auto\"\n",
    "print(\"\\n---------- Inference ----------\")\n",
    "print(\"Threshold :\", threshold)\n",
    "\n",
    "S_test = stacking(models, X_test, [1,3,4,10,11,12])\n",
    "y_pred_lst = []\n",
    "y_pred_binary_lst =[]\n",
    "\n",
    "for meta in models2 :\n",
    "    pred = meta.predict_proba(S_test)[:, 1]\n",
    "    y_pred_lst.append(pred)\n",
    "    y_pred_binary_lst.append(pred_to_binary(pred, threshold = threshold))\n",
    "\n",
    "S_test2 = stacking(models2, S_test, [1,2,3,4])\n",
    "y_pred_lst2 = []\n",
    "y_pred_binary_lst2 =[]\n",
    "\n",
    "for meta in models3 :\n",
    "    pred = meta.predict_proba(S_test2)[:, 1]\n",
    "    y_pred_lst2.append(pred)\n",
    "    y_pred_binary_lst2.append(pred_to_binary(pred, threshold = threshold))\n",
    "\n",
    "final, final_df = export_csv(patient_num, error_patient, y_pred_binary_lst2, y_pred_lst2, path = path, index=1)\n",
    "print(making_result(S_test, y_pred_lst, y_pred_binary_lst, y_pred_lst2, y_pred_binary_lst2, [1,3,4,10,11,12], [1,2,3,4], [1,2], final))"
   ]
  },
  {
   "cell_type": "code",
   "execution_count": null,
   "metadata": {},
   "outputs": [],
   "source": []
  }
 ],
 "metadata": {
  "kernelspec": {
   "display_name": "Python 3",
   "language": "python",
   "name": "python3"
  },
  "language_info": {
   "codemirror_mode": {
    "name": "ipython",
    "version": 3
   },
   "file_extension": ".py",
   "mimetype": "text/x-python",
   "name": "python",
   "nbconvert_exporter": "python",
   "pygments_lexer": "ipython3",
   "version": "3.6.4"
  }
 },
 "nbformat": 4,
 "nbformat_minor": 2
}
