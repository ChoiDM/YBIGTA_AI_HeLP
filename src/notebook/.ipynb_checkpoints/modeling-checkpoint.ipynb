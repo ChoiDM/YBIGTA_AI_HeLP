{
 "cells": [
  {
   "cell_type": "code",
   "execution_count": 1,
   "metadata": {
    "scrolled": false
   },
   "outputs": [
    {
     "name": "stderr",
     "output_type": "stream",
     "text": [
      "/home/ubuntu/anaconda3/lib/python3.6/site-packages/h5py/__init__.py:36: FutureWarning: Conversion of the second argument of issubdtype from `float` to `np.floating` is deprecated. In future, it will be treated as `np.float64 == np.dtype(float).type`.\n",
      "  from ._conv import register_converters as _register_converters\n",
      "/home/ubuntu/anaconda3/lib/python3.6/site-packages/statsmodels/compat/pandas.py:56: FutureWarning: The pandas.core.datetools module is deprecated and will be removed in a future version. Please use the pandas.tseries module instead.\n",
      "  from pandas.core import datetools\n",
      "Using TensorFlow backend.\n",
      "/home/ubuntu/anaconda3/lib/python3.6/site-packages/sklearn/ensemble/weight_boosting.py:29: DeprecationWarning: numpy.core.umath_tests is an internal NumPy module and should not be imported. It will be removed in a future NumPy release.\n",
      "  from numpy.core.umath_tests import inner1d\n"
     ]
    }
   ],
   "source": [
    "from utils.data_loader import train_data_loader, test_data_loader, data_generator\n",
    "from utils.inference_tools import pred_to_binary, export_csv, making_result,  error_check\n",
    "from utils.model_stacking import *\n",
    "from utils.cube_tools import *\n",
    "from utils.model_ml import *\n",
    "import vecstack\n",
    "from glob import glob\n",
    "\n",
    "from xgboost import XGBClassifier\n",
    "from lightgbm import LGBMClassifier\n",
    "from sklearn.svm import SVC\n",
    "from sklearn.ensemble import RandomForestClassifier, ExtraTreesClassifier, AdaBoostClassifier\n",
    "from sklearn.linear_model import LogisticRegression, Lasso, RidgeClassifier, SGDClassifier, Lars, LassoLars\n",
    "from sklearn.model_selection import GridSearchCV, RandomizedSearchCV\n",
    "from sklearn.metrics import fbeta_score, make_scorer\n",
    "\n",
    "from keras.models import Sequential, model_from_json\n",
    "from keras.layers import Dense, Dropout, Conv3D, Flatten, pooling\n",
    "from keras.wrappers.scikit_learn import KerasClassifier\n",
    "from keras.utils import np_utils \n",
    "from imgaug import augmenters as iaa\n",
    "\n",
    "import pandas as pd\n",
    "import numpy as np\n",
    "import pickle\n",
    "import datetime\n",
    "\n",
    "import warnings\n",
    "warnings.filterwarnings('ignore')\n",
    "pd.set_option('display.max_rows', 500)\n",
    "pd.set_option('display.max_columns', 500)"
   ]
  },
  {
   "cell_type": "markdown",
   "metadata": {},
   "source": [
    "# Load Data and Pre-processing"
   ]
  },
  {
   "cell_type": "code",
   "execution_count": 2,
   "metadata": {},
   "outputs": [],
   "source": [
    "# Setting\n",
    "path = \"./data\"\n",
    "pos_dir = path+\"/train/positive/\"\n",
    "neg_dir = path+\"/train/negative/\"\n",
    "\n",
    "save_dir = path+\"/model/\"\n",
    "test_dir = path+'/test/'\n",
    "\n",
    "features = ['firstorder', 'shape']\n",
    "target_voxel = (0.65, 0.65, 3)"
   ]
  },
  {
   "cell_type": "code",
   "execution_count": null,
   "metadata": {},
   "outputs": [],
   "source": [
    "norm = 'new'\n",
    "do_resample = True\n",
    "do_shuffle = True\n",
    "do_minmax = True\n",
    "\n",
    "X_train, y_train = train_data_loader(pos_dir, neg_dir, norm, do_resample, do_shuffle, do_minmax, features, target_voxel, path=path)"
   ]
  },
  {
   "cell_type": "code",
   "execution_count": null,
   "metadata": {},
   "outputs": [],
   "source": [
    "norm = 'new'\n",
    "do_resample = True\n",
    "do_minmax = True\n",
    "\n",
    "X_test, patient_num, error_patient = test_data_loader(test_dir, norm, do_resample, do_minmax, features, target_voxel, path=path)"
   ]
  },
  {
   "cell_type": "markdown",
   "metadata": {},
   "source": [
    "<br><br><br>"
   ]
  },
  {
   "cell_type": "markdown",
   "metadata": {},
   "source": [
    "# Modeling"
   ]
  },
  {
   "cell_type": "code",
   "execution_count": null,
   "metadata": {},
   "outputs": [],
   "source": [
    "X_train.shape"
   ]
  },
  {
   "cell_type": "markdown",
   "metadata": {},
   "source": [
    "### MLP"
   ]
  },
  {
   "cell_type": "code",
   "execution_count": null,
   "metadata": {},
   "outputs": [],
   "source": [
    "MLP = dl_mlp(X_train, y_train, num_units=256, hidden_layers=3, epochs=30, loss=\"cross_entropy_loss\")"
   ]
  },
  {
   "cell_type": "markdown",
   "metadata": {},
   "source": [
    "### CNN"
   ]
  },
  {
   "cell_type": "code",
   "execution_count": 2,
   "metadata": {},
   "outputs": [],
   "source": [
    "epochs = 1\n",
    "batch_size = 4\n",
    "cube_shape = (32, 32, 16)\n",
    "mode = 'train'\n",
    "norm=\"new\"\n",
    "target_voxel = (0.65, 0.65, 3)"
   ]
  },
  {
   "cell_type": "code",
   "execution_count": 3,
   "metadata": {},
   "outputs": [],
   "source": [
    "seq = iaa.Sequential([\n",
    "    iaa.Fliplr(0.5), # horizontally flip 50% of the images\n",
    "    iaa.Flipud(0.2), # vertically flip 20% of the images\n",
    "    iaa.GaussianBlur(sigma=(0, 3.0)), # blur images with a sigma of 0 to 3.0\n",
    "    iaa.Affine(rotate=(-10, 10))\n",
    "], random_order = True)"
   ]
  },
  {
   "cell_type": "code",
   "execution_count": 3,
   "metadata": {},
   "outputs": [],
   "source": [
    "path = './data'\n",
    "\n",
    "data_dir = sorted(glob(os.path.join(path, mode, '*', '*')))\n",
    "data_dir, error_patient = error_check(data_dir)\n",
    "data_gen = data_generator(batch_size, mode, data_dir, cube_shape, norm, target_voxel, seq=None)"
   ]
  },
  {
   "cell_type": "code",
   "execution_count": null,
   "metadata": {},
   "outputs": [],
   "source": [
    "CNN = dl_cnn(data_gen, cube_shape=(32,32,16), batch_size=4, epochs=1, seq=None)"
   ]
  },
  {
   "cell_type": "markdown",
   "metadata": {},
   "source": [
    "# Save"
   ]
  },
  {
   "cell_type": "code",
   "execution_count": null,
   "metadata": {},
   "outputs": [],
   "source": [
    "MLP.model.save_weights(path+'/model/MLP.h5')\n",
    "with open(path+'/model/MLP.json', 'w') as f :\n",
    "    f.write(MLP.model.to_json())"
   ]
  },
  {
   "cell_type": "code",
   "execution_count": null,
   "metadata": {},
   "outputs": [],
   "source": [
    "CNN.model.save_weights(path+'/model/CNN.h5')\n",
    "with open(path+'/model/CNN.json', 'w') as f :\n",
    "    f.write(CNN.model.to_json())"
   ]
  },
  {
   "cell_type": "markdown",
   "metadata": {},
   "source": [
    "# Loading & Prediction"
   ]
  },
  {
   "cell_type": "code",
   "execution_count": null,
   "metadata": {},
   "outputs": [],
   "source": [
    "with open(path+'/model/MLP.json', 'r') as f :\n",
    "    MLP = model_from_json(f.read())\n",
    "MLP.model.load_weights(path+'/model/MLP.h5')"
   ]
  },
  {
   "cell_type": "code",
   "execution_count": null,
   "metadata": {},
   "outputs": [],
   "source": [
    "with open(path+'/model/CNN.json', 'r') as f :\n",
    "    CNN = model_from_json(f.read())\n",
    "CNN.model.load_weights(path+'/model/CNN.h5')"
   ]
  },
  {
   "cell_type": "markdown",
   "metadata": {},
   "source": [
    "<br><br>"
   ]
  },
  {
   "cell_type": "code",
   "execution_count": null,
   "metadata": {},
   "outputs": [],
   "source": [
    "threshold = \"auto\"\n",
    "mode=\"test\"\n",
    "path = './data'\n",
    "\n",
    "data_dir = sorted(glob(os.path.join(path, mode, '*')))\n",
    "data_dir, error_patient = error_check(data_dir)\n",
    "data_gen = data_generator(batch_size, mode, data_dir, cube_shape, norm, target_voxel, seq)"
   ]
  },
  {
   "cell_type": "code",
   "execution_count": null,
   "metadata": {},
   "outputs": [],
   "source": [
    "y_pred_lst = []\n",
    "y_pred_binary_lst =[]\n",
    "\n",
    "pred = MLP.predict_proba(X_test)[:, 1]\n",
    "y_pred_lst.append(pred)\n",
    "y_pred_binary_lst.append(pred_to_binary(pred, threshold = threshold))\n",
    "    \n",
    "pred = CNN.predict_generator(data_gen, steps=255//batch_size, verbose=1)\n",
    "y_pred_lst.append(pred)\n",
    "y_pred_binary_lst.append(pred_to_binary(pred, threshold = threshold))  \n",
    "\n",
    "final, final_df = export_csv(patient_num, error_patient, y_pred_binary_lst, y_pred_lst, path = path, index=1)\n",
    "print(final_df)"
   ]
  },
  {
   "cell_type": "code",
   "execution_count": null,
   "metadata": {},
   "outputs": [],
   "source": []
  },
  {
   "cell_type": "code",
   "execution_count": null,
   "metadata": {},
   "outputs": [],
   "source": []
  }
 ],
 "metadata": {
  "kernelspec": {
   "display_name": "Python 3",
   "language": "python",
   "name": "python3"
  },
  "language_info": {
   "codemirror_mode": {
    "name": "ipython",
    "version": 3
   },
   "file_extension": ".py",
   "mimetype": "text/x-python",
   "name": "python",
   "nbconvert_exporter": "python",
   "pygments_lexer": "ipython3",
   "version": "3.6.4"
  }
 },
 "nbformat": 4,
 "nbformat_minor": 2
}
